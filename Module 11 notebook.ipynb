{
 "cells": [
  {
   "cell_type": "markdown",
   "metadata": {},
   "source": [
    "### Модуль 11. Segmentation\n",
    "### Выполнила Анна Лубневская\n",
    "### Skillfactory: DSPR-19\n",
    "\n"
   ]
  },
  {
   "cell_type": "markdown",
   "metadata": {},
   "source": [
    "# Практика сегментация"
   ]
  },
  {
   "cell_type": "markdown",
   "metadata": {},
   "source": [
    "## Dataset\n",
    "\n",
    "Мы будем использовать Oxford-IIIT Pet Dataset. Он состоит из 37 классов собак и кошек, на каждый класс около 200 картинок. В датасете есть как боксы и маски. В датасете около 7 тысяч изображений.  \n",
    "\n",
    "![alt text](http://www.robots.ox.ac.uk/~vgg/data/pets/pet_annotations.jpg)\n",
    "\n",
    "Скачаем данные и распакуем"
   ]
  },
  {
   "cell_type": "code",
   "execution_count": 1,
   "metadata": {},
   "outputs": [],
   "source": [
    "%%capture out\n",
    "!wget http://www.robots.ox.ac.uk/~vgg/data/pets/data/images.tar.gz\n",
    "!wget http://www.robots.ox.ac.uk/~vgg/data/pets/data/annotations.tar.gz\n",
    "!tar -xvzf images.tar.gz && tar -xvzf annotations.tar.gz\n",
    "!rm  images/*.mat"
   ]
  },
  {
   "cell_type": "code",
   "execution_count": 2,
   "metadata": {},
   "outputs": [
    {
     "name": "stdout",
     "output_type": "stream",
     "text": [
      "rm: невозможно удалить 'images/*.mat': Нет такого файла или каталога\r\n"
     ]
    }
   ],
   "source": [
    "!rm  images/*.mat"
   ]
  },
  {
   "cell_type": "markdown",
   "metadata": {},
   "source": [
    "Заметим, у нас две папки в данных. Первая с `images` и вторая с разметкой масками как `binary` картинки."
   ]
  },
  {
   "cell_type": "markdown",
   "metadata": {},
   "source": [
    "## Импортируем нужные библиотеки"
   ]
  },
  {
   "cell_type": "code",
   "execution_count": 3,
   "metadata": {
    "scrolled": true
   },
   "outputs": [
    {
     "name": "stdout",
     "output_type": "stream",
     "text": [
      "Requirement already satisfied: albumentations in /home/dell/anaconda3/lib/python3.8/site-packages (1.0.3)\n",
      "Requirement already satisfied: scikit-image>=0.16.1 in /home/dell/anaconda3/lib/python3.8/site-packages (from albumentations) (0.16.2)\n",
      "Requirement already satisfied: numpy>=1.11.1 in /home/dell/.local/lib/python3.8/site-packages (from albumentations) (1.19.5)\n",
      "Requirement already satisfied: opencv-python-headless>=4.1.1 in /home/dell/anaconda3/lib/python3.8/site-packages (from albumentations) (4.5.3.56)\n",
      "Requirement already satisfied: scipy in /home/dell/anaconda3/lib/python3.8/site-packages (from albumentations) (1.5.0)\n",
      "Requirement already satisfied: PyYAML in /home/dell/anaconda3/lib/python3.8/site-packages (from albumentations) (5.3.1)\n",
      "Requirement already satisfied: networkx>=2.0 in /home/dell/anaconda3/lib/python3.8/site-packages (from scikit-image>=0.16.1->albumentations) (2.4)\n",
      "Requirement already satisfied: pillow>=4.3.0 in /home/dell/anaconda3/lib/python3.8/site-packages (from scikit-image>=0.16.1->albumentations) (7.2.0)\n",
      "Requirement already satisfied: imageio>=2.3.0 in /home/dell/anaconda3/lib/python3.8/site-packages (from scikit-image>=0.16.1->albumentations) (2.9.0)\n",
      "Requirement already satisfied: PyWavelets>=0.4.0 in /home/dell/anaconda3/lib/python3.8/site-packages (from scikit-image>=0.16.1->albumentations) (1.1.1)\n",
      "Requirement already satisfied: matplotlib!=3.0.0,>=2.0.0 in /home/dell/anaconda3/lib/python3.8/site-packages (from scikit-image>=0.16.1->albumentations) (3.2.2)\n",
      "Requirement already satisfied: decorator>=4.3.0 in /home/dell/anaconda3/lib/python3.8/site-packages (from networkx>=2.0->scikit-image>=0.16.1->albumentations) (4.4.2)\n",
      "Requirement already satisfied: cycler>=0.10 in /home/dell/anaconda3/lib/python3.8/site-packages (from matplotlib!=3.0.0,>=2.0.0->scikit-image>=0.16.1->albumentations) (0.10.0)\n",
      "Requirement already satisfied: kiwisolver>=1.0.1 in /home/dell/anaconda3/lib/python3.8/site-packages (from matplotlib!=3.0.0,>=2.0.0->scikit-image>=0.16.1->albumentations) (1.2.0)\n",
      "Requirement already satisfied: pyparsing!=2.0.4,!=2.1.2,!=2.1.6,>=2.0.1 in /home/dell/anaconda3/lib/python3.8/site-packages (from matplotlib!=3.0.0,>=2.0.0->scikit-image>=0.16.1->albumentations) (2.4.7)\n",
      "Requirement already satisfied: python-dateutil>=2.1 in /home/dell/anaconda3/lib/python3.8/site-packages (from matplotlib!=3.0.0,>=2.0.0->scikit-image>=0.16.1->albumentations) (2.8.1)\n",
      "Requirement already satisfied: six in /home/dell/.local/lib/python3.8/site-packages (from cycler>=0.10->matplotlib!=3.0.0,>=2.0.0->scikit-image>=0.16.1->albumentations) (1.15.0)\n",
      "Note: you may need to restart the kernel to use updated packages.\n"
     ]
    }
   ],
   "source": [
    "#!g1.1\n",
    "%pip install albumentations"
   ]
  },
  {
   "cell_type": "code",
   "execution_count": 4,
   "metadata": {
    "scrolled": true
   },
   "outputs": [
    {
     "name": "stdout",
     "output_type": "stream",
     "text": [
      "Collecting torchmetrics\n",
      "  Downloading torchmetrics-0.9.3-py3-none-any.whl (419 kB)\n",
      "\u001b[K     |████████████████████████████████| 419 kB 1.7 MB/s eta 0:00:01\n",
      "\u001b[?25hRequirement already satisfied: torch>=1.3.1 in /home/dell/anaconda3/lib/python3.8/site-packages (from torchmetrics) (1.7.1)\n",
      "Requirement already satisfied: numpy>=1.17.2 in /home/dell/.local/lib/python3.8/site-packages (from torchmetrics) (1.19.5)\n",
      "Requirement already satisfied: packaging in /home/dell/anaconda3/lib/python3.8/site-packages (from torchmetrics) (20.4)\n",
      "Requirement already satisfied: typing_extensions in /home/dell/.local/lib/python3.8/site-packages (from torch>=1.3.1->torchmetrics) (3.7.4.3)\n",
      "Requirement already satisfied: pyparsing>=2.0.2 in /home/dell/anaconda3/lib/python3.8/site-packages (from packaging->torchmetrics) (2.4.7)\n",
      "Requirement already satisfied: six in /home/dell/.local/lib/python3.8/site-packages (from packaging->torchmetrics) (1.15.0)\n",
      "Installing collected packages: torchmetrics\n",
      "Successfully installed torchmetrics-0.9.3\n",
      "Note: you may need to restart the kernel to use updated packages.\n"
     ]
    }
   ],
   "source": [
    "#!g1.1\n",
    "%pip install torchmetrics"
   ]
  },
  {
   "cell_type": "code",
   "execution_count": 5,
   "metadata": {},
   "outputs": [
    {
     "name": "stdout",
     "output_type": "stream",
     "text": [
      "Collecting pytorch_lightning\n",
      "  Downloading pytorch_lightning-1.7.6-py3-none-any.whl (707 kB)\n",
      "\u001b[K     |████████████████████████████████| 707 kB 1.7 MB/s eta 0:00:01\n",
      "\u001b[?25hCollecting torch>=1.9.*\n",
      "  Downloading torch-1.12.1-cp38-cp38-manylinux1_x86_64.whl (776.3 MB)\n",
      "\u001b[K     |████████████████████████████████| 776.3 MB 533 bytes/s  0:00:01\n",
      "\u001b[?25hCollecting tensorboard>=2.9.1\n",
      "  Downloading tensorboard-2.10.0-py3-none-any.whl (5.9 MB)\n",
      "\u001b[K     |████████████████████████████████| 5.9 MB 203 kB/s eta 0:00:01\n",
      "\u001b[?25hCollecting tqdm>=4.57.0\n",
      "  Downloading tqdm-4.64.1-py2.py3-none-any.whl (78 kB)\n",
      "\u001b[K     |████████████████████████████████| 78 kB 402 kB/s  eta 0:00:01\n",
      "\u001b[?25hCollecting pyDeprecate>=0.3.1\n",
      "  Downloading pyDeprecate-0.3.2-py3-none-any.whl (10 kB)\n",
      "Requirement already satisfied, skipping upgrade: packaging>=17.0 in /home/dell/anaconda3/lib/python3.8/site-packages (from pytorch_lightning) (20.4)\n",
      "Requirement already satisfied, skipping upgrade: numpy>=1.17.2 in /home/dell/.local/lib/python3.8/site-packages (from pytorch_lightning) (1.19.5)\n",
      "Collecting typing-extensions>=4.0.0\n",
      "  Downloading typing_extensions-4.3.0-py3-none-any.whl (25 kB)\n",
      "Collecting fsspec[http]!=2021.06.0,>=2021.05.0\n",
      "  Downloading fsspec-2022.8.2-py3-none-any.whl (140 kB)\n",
      "\u001b[K     |████████████████████████████████| 140 kB 10.4 MB/s eta 0:00:01\n",
      "\u001b[?25hRequirement already satisfied, skipping upgrade: torchmetrics>=0.7.0 in /home/dell/anaconda3/lib/python3.8/site-packages (from pytorch_lightning) (0.9.3)\n",
      "Collecting PyYAML>=5.4\n",
      "  Downloading PyYAML-6.0-cp38-cp38-manylinux_2_5_x86_64.manylinux1_x86_64.manylinux_2_12_x86_64.manylinux2010_x86_64.whl (701 kB)\n",
      "\u001b[K     |████████████████████████████████| 701 kB 9.8 MB/s eta 0:00:01\n",
      "\u001b[?25hRequirement already satisfied, skipping upgrade: tensorboard-plugin-wit>=1.6.0 in /home/dell/.local/lib/python3.8/site-packages (from tensorboard>=2.9.1->pytorch_lightning) (1.8.0)\n",
      "Requirement already satisfied, skipping upgrade: google-auth<3,>=1.6.3 in /home/dell/.local/lib/python3.8/site-packages (from tensorboard>=2.9.1->pytorch_lightning) (1.35.0)\n",
      "Requirement already satisfied, skipping upgrade: werkzeug>=1.0.1 in /home/dell/.local/lib/python3.8/site-packages (from tensorboard>=2.9.1->pytorch_lightning) (2.0.1)\n",
      "Requirement already satisfied, skipping upgrade: google-auth-oauthlib<0.5,>=0.4.1 in /home/dell/.local/lib/python3.8/site-packages (from tensorboard>=2.9.1->pytorch_lightning) (0.4.5)\n",
      "Requirement already satisfied, skipping upgrade: grpcio>=1.24.3 in /home/dell/.local/lib/python3.8/site-packages (from tensorboard>=2.9.1->pytorch_lightning) (1.39.0)\n",
      "Requirement already satisfied, skipping upgrade: markdown>=2.6.8 in /home/dell/.local/lib/python3.8/site-packages (from tensorboard>=2.9.1->pytorch_lightning) (3.3.4)\n",
      "Requirement already satisfied, skipping upgrade: tensorboard-data-server<0.7.0,>=0.6.0 in /home/dell/.local/lib/python3.8/site-packages (from tensorboard>=2.9.1->pytorch_lightning) (0.6.1)\n",
      "Requirement already satisfied, skipping upgrade: absl-py>=0.4 in /home/dell/.local/lib/python3.8/site-packages (from tensorboard>=2.9.1->pytorch_lightning) (0.13.0)\n",
      "Requirement already satisfied, skipping upgrade: protobuf<3.20,>=3.9.2 in /home/dell/.local/lib/python3.8/site-packages (from tensorboard>=2.9.1->pytorch_lightning) (3.17.3)\n",
      "Requirement already satisfied, skipping upgrade: wheel>=0.26 in /home/dell/.local/lib/python3.8/site-packages (from tensorboard>=2.9.1->pytorch_lightning) (0.37.0)\n",
      "Requirement already satisfied, skipping upgrade: requests<3,>=2.21.0 in /home/dell/.local/lib/python3.8/site-packages (from tensorboard>=2.9.1->pytorch_lightning) (2.26.0)\n",
      "Requirement already satisfied, skipping upgrade: setuptools>=41.0.0 in /home/dell/.local/lib/python3.8/site-packages (from tensorboard>=2.9.1->pytorch_lightning) (57.4.0)\n",
      "Requirement already satisfied, skipping upgrade: pyparsing>=2.0.2 in /home/dell/anaconda3/lib/python3.8/site-packages (from packaging>=17.0->pytorch_lightning) (2.4.7)\n",
      "Requirement already satisfied, skipping upgrade: six in /home/dell/.local/lib/python3.8/site-packages (from packaging>=17.0->pytorch_lightning) (1.15.0)\n",
      "Collecting aiohttp!=4.0.0a0,!=4.0.0a1; extra == \"http\"\n",
      "  Downloading aiohttp-3.8.2-cp38-cp38-manylinux_2_17_x86_64.manylinux2014_x86_64.whl (1.0 MB)\n",
      "\u001b[K     |████████████████████████████████| 1.0 MB 10.3 MB/s eta 0:00:01\n",
      "\u001b[?25hRequirement already satisfied, skipping upgrade: cachetools<5.0,>=2.0.0 in /home/dell/.local/lib/python3.8/site-packages (from google-auth<3,>=1.6.3->tensorboard>=2.9.1->pytorch_lightning) (4.2.2)\n",
      "Requirement already satisfied, skipping upgrade: rsa<5,>=3.1.4; python_version >= \"3.6\" in /home/dell/.local/lib/python3.8/site-packages (from google-auth<3,>=1.6.3->tensorboard>=2.9.1->pytorch_lightning) (4.7.2)\n",
      "Requirement already satisfied, skipping upgrade: pyasn1-modules>=0.2.1 in /home/dell/.local/lib/python3.8/site-packages (from google-auth<3,>=1.6.3->tensorboard>=2.9.1->pytorch_lightning) (0.2.8)\n",
      "Requirement already satisfied, skipping upgrade: requests-oauthlib>=0.7.0 in /home/dell/.local/lib/python3.8/site-packages (from google-auth-oauthlib<0.5,>=0.4.1->tensorboard>=2.9.1->pytorch_lightning) (1.3.0)\n",
      "Requirement already satisfied, skipping upgrade: urllib3<1.27,>=1.21.1 in /home/dell/.local/lib/python3.8/site-packages (from requests<3,>=2.21.0->tensorboard>=2.9.1->pytorch_lightning) (1.26.6)\n",
      "Requirement already satisfied, skipping upgrade: idna<4,>=2.5; python_version >= \"3\" in /home/dell/.local/lib/python3.8/site-packages (from requests<3,>=2.21.0->tensorboard>=2.9.1->pytorch_lightning) (3.2)\n",
      "Requirement already satisfied, skipping upgrade: charset-normalizer~=2.0.0; python_version >= \"3\" in /home/dell/.local/lib/python3.8/site-packages (from requests<3,>=2.21.0->tensorboard>=2.9.1->pytorch_lightning) (2.0.4)\n",
      "Requirement already satisfied, skipping upgrade: certifi>=2017.4.17 in /home/dell/.local/lib/python3.8/site-packages (from requests<3,>=2.21.0->tensorboard>=2.9.1->pytorch_lightning) (2021.5.30)\n",
      "Requirement already satisfied, skipping upgrade: attrs>=17.3.0 in /home/dell/anaconda3/lib/python3.8/site-packages (from aiohttp!=4.0.0a0,!=4.0.0a1; extra == \"http\"->fsspec[http]!=2021.06.0,>=2021.05.0->pytorch_lightning) (19.3.0)\n",
      "Collecting frozenlist>=1.1.1\n",
      "  Downloading frozenlist-1.3.1-cp38-cp38-manylinux_2_5_x86_64.manylinux1_x86_64.manylinux_2_17_x86_64.manylinux2014_x86_64.whl (161 kB)\n",
      "\u001b[K     |████████████████████████████████| 161 kB 9.8 MB/s eta 0:00:01\n",
      "\u001b[?25hCollecting async-timeout<5.0,>=4.0.0a3\n",
      "  Downloading async_timeout-4.0.2-py3-none-any.whl (5.8 kB)\n",
      "Collecting multidict<6.0,>=4.5\n",
      "  Downloading multidict-5.2.0-cp38-cp38-manylinux_2_5_x86_64.manylinux1_x86_64.manylinux_2_12_x86_64.manylinux2010_x86_64.whl (187 kB)\n",
      "\u001b[K     |████████████████████████████████| 187 kB 10.6 MB/s eta 0:00:01\n",
      "\u001b[?25hCollecting aiosignal>=1.1.2\n",
      "  Downloading aiosignal-1.2.0-py3-none-any.whl (8.2 kB)\n",
      "Collecting yarl<2.0,>=1.0\n",
      "  Downloading yarl-1.8.1-cp38-cp38-manylinux_2_17_x86_64.manylinux2014_x86_64.whl (262 kB)\n",
      "\u001b[K     |████████████████████████████████| 262 kB 10.3 MB/s eta 0:00:01\n",
      "\u001b[?25hRequirement already satisfied, skipping upgrade: pyasn1>=0.1.3 in /home/dell/.local/lib/python3.8/site-packages (from rsa<5,>=3.1.4; python_version >= \"3.6\"->google-auth<3,>=1.6.3->tensorboard>=2.9.1->pytorch_lightning) (0.4.8)\n",
      "Requirement already satisfied, skipping upgrade: oauthlib>=3.0.0 in /home/dell/.local/lib/python3.8/site-packages (from requests-oauthlib>=0.7.0->google-auth-oauthlib<0.5,>=0.4.1->tensorboard>=2.9.1->pytorch_lightning) (3.1.1)\n",
      "\u001b[31mERROR: tensorflow 2.6.0 has requirement typing-extensions~=3.7.4, but you'll have typing-extensions 4.3.0 which is incompatible.\u001b[0m\n",
      "\u001b[31mERROR: huggingface-hub 0.0.12 has requirement packaging>=20.9, but you'll have packaging 20.4 which is incompatible.\u001b[0m\n",
      "Installing collected packages: typing-extensions, torch, tensorboard, tqdm, pyDeprecate, frozenlist, async-timeout, multidict, aiosignal, yarl, aiohttp, fsspec, PyYAML, pytorch-lightning\n",
      "  Attempting uninstall: typing-extensions\n",
      "    Found existing installation: typing-extensions 3.7.4.3\n",
      "    Uninstalling typing-extensions-3.7.4.3:\n",
      "      Successfully uninstalled typing-extensions-3.7.4.3\n",
      "  Attempting uninstall: torch\n",
      "    Found existing installation: torch 1.7.1\n",
      "    Uninstalling torch-1.7.1:\n"
     ]
    },
    {
     "name": "stdout",
     "output_type": "stream",
     "text": [
      "      Successfully uninstalled torch-1.7.1\n",
      "  Attempting uninstall: tensorboard\n",
      "    Found existing installation: tensorboard 2.6.0\n",
      "    Uninstalling tensorboard-2.6.0:\n",
      "      Successfully uninstalled tensorboard-2.6.0\n",
      "  Attempting uninstall: tqdm\n",
      "    Found existing installation: tqdm 4.47.0\n",
      "    Uninstalling tqdm-4.47.0:\n",
      "      Successfully uninstalled tqdm-4.47.0\n",
      "  Attempting uninstall: fsspec\n",
      "    Found existing installation: fsspec 0.7.4\n",
      "    Uninstalling fsspec-0.7.4:\n",
      "      Successfully uninstalled fsspec-0.7.4\n",
      "  Attempting uninstall: PyYAML\n",
      "    Found existing installation: PyYAML 5.3.1\n",
      "\u001b[31mERROR: Cannot uninstall 'PyYAML'. It is a distutils installed project and thus we cannot accurately determine which files belong to it which would lead to only a partial uninstall.\u001b[0m\n",
      "Note: you may need to restart the kernel to use updated packages.\n"
     ]
    }
   ],
   "source": [
    "#!g1.1\n",
    "%pip install pytorch_lightning -U"
   ]
  },
  {
   "cell_type": "code",
   "execution_count": 6,
   "metadata": {},
   "outputs": [
    {
     "ename": "ModuleNotFoundError",
     "evalue": "No module named 'pytorch_lightning'",
     "output_type": "error",
     "traceback": [
      "\u001b[0;31m---------------------------------------------------------------------------\u001b[0m",
      "\u001b[0;31mModuleNotFoundError\u001b[0m                       Traceback (most recent call last)",
      "\u001b[0;32m<ipython-input-6-13287298cfb3>\u001b[0m in \u001b[0;36m<module>\u001b[0;34m\u001b[0m\n\u001b[1;32m      6\u001b[0m \u001b[0;32mimport\u001b[0m \u001b[0mmatplotlib\u001b[0m\u001b[0;34m.\u001b[0m\u001b[0mpyplot\u001b[0m \u001b[0;32mas\u001b[0m \u001b[0mplt\u001b[0m\u001b[0;34m\u001b[0m\u001b[0;34m\u001b[0m\u001b[0m\n\u001b[1;32m      7\u001b[0m \u001b[0;32mimport\u001b[0m \u001b[0mnumpy\u001b[0m \u001b[0;32mas\u001b[0m \u001b[0mnp\u001b[0m\u001b[0;34m\u001b[0m\u001b[0;34m\u001b[0m\u001b[0m\n\u001b[0;32m----> 8\u001b[0;31m \u001b[0;32mimport\u001b[0m \u001b[0mpytorch_lightning\u001b[0m \u001b[0;32mas\u001b[0m \u001b[0mpl\u001b[0m\u001b[0;34m\u001b[0m\u001b[0;34m\u001b[0m\u001b[0m\n\u001b[0m\u001b[1;32m      9\u001b[0m \u001b[0;32mimport\u001b[0m \u001b[0mtorch\u001b[0m\u001b[0;34m\u001b[0m\u001b[0;34m\u001b[0m\u001b[0m\n\u001b[1;32m     10\u001b[0m \u001b[0;32mimport\u001b[0m \u001b[0mtorch\u001b[0m\u001b[0;34m.\u001b[0m\u001b[0mnn\u001b[0m \u001b[0;32mas\u001b[0m \u001b[0mnn\u001b[0m\u001b[0;34m\u001b[0m\u001b[0;34m\u001b[0m\u001b[0m\n",
      "\u001b[0;31mModuleNotFoundError\u001b[0m: No module named 'pytorch_lightning'"
     ]
    }
   ],
   "source": [
    "#!g1.1\n",
    "import os\n",
    "\n",
    "import albumentations as A\n",
    "import cv2\n",
    "import matplotlib.pyplot as plt\n",
    "import numpy as np\n",
    "import pytorch_lightning as pl\n",
    "import torch\n",
    "import torch.nn as nn\n",
    "import torch.nn.functional as F\n",
    "import torch.optim as optim\n",
    "import torchmetrics\n",
    "from albumentations.pytorch.transforms import ToTensorV2\n",
    "from pytorch_lightning.callbacks import (\n",
    "    EarlyStopping,\n",
    "    LearningRateMonitor,\n",
    "    ModelCheckpoint,\n",
    ")\n",
    "from sklearn.model_selection import train_test_split\n",
    "from torch.utils.data import DataLoader, Dataset\n",
    "from tqdm.auto import tqdm"
   ]
  },
  {
   "cell_type": "code",
   "execution_count": null,
   "metadata": {},
   "outputs": [],
   "source": [
    "os.listdir()"
   ]
  }
 ],
 "metadata": {
  "kernelspec": {
   "display_name": "Python 3",
   "language": "python",
   "name": "python3"
  },
  "language_info": {
   "codemirror_mode": {
    "name": "ipython",
    "version": 3
   },
   "file_extension": ".py",
   "mimetype": "text/x-python",
   "name": "python",
   "nbconvert_exporter": "python",
   "pygments_lexer": "ipython3",
   "version": "3.8.3"
  }
 },
 "nbformat": 4,
 "nbformat_minor": 4
}
