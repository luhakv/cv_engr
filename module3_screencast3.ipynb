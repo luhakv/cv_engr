{
  "nbformat": 4,
  "nbformat_minor": 0,
  "metadata": {
    "colab": {
      "name": "module3_screencast3",
      "provenance": [],
      "collapsed_sections": []
    },
    "kernelspec": {
      "name": "python3",
      "display_name": "Python 3"
    },
    "language_info": {
      "name": "python"
    }
  },
  "cells": [
    {
      "cell_type": "markdown",
      "metadata": {
        "id": "qiiLNHT3ilAT"
      },
      "source": [
        "#Необходимые вещи из прошлых ноутбуков"
      ]
    },
    {
      "cell_type": "code",
      "metadata": {
        "id": "dceZJas1-FjR"
      },
      "source": [
        "import numpy as np\n",
        "import seaborn as sns"
      ],
      "execution_count": null,
      "outputs": []
    },
    {
      "cell_type": "code",
      "metadata": {
        "id": "vqM-vtOkryqo"
      },
      "source": [
        "np.random.seed(1)"
      ],
      "execution_count": null,
      "outputs": []
    },
    {
      "cell_type": "markdown",
      "metadata": {
        "id": "challenging-startup"
      },
      "source": [
        "Сгенерируем выборку:"
      ]
    },
    {
      "cell_type": "code",
      "metadata": {
        "id": "QWfPweCVpEgP"
      },
      "source": [
        "def linear_func(x):\n",
        "    target_k = 5\n",
        "    target_b = -2\n",
        "    return target_k * x + target_b"
      ],
      "execution_count": null,
      "outputs": []
    },
    {
      "cell_type": "code",
      "metadata": {
        "colab": {
          "base_uri": "https://localhost:8080/"
        },
        "id": "posted-breakdown",
        "outputId": "a0e44fe3-74d8-4b71-e14e-a42d2b5617dd"
      },
      "source": [
        "xes = np.linspace(0, 1, 11)\n",
        "\n",
        "print(xes)"
      ],
      "execution_count": null,
      "outputs": [
        {
          "output_type": "stream",
          "text": [
            "[0.  0.1 0.2 0.3 0.4 0.5 0.6 0.7 0.8 0.9 1. ]\n"
          ],
          "name": "stdout"
        }
      ]
    },
    {
      "cell_type": "code",
      "metadata": {
        "colab": {
          "base_uri": "https://localhost:8080/"
        },
        "id": "lSkmrafussNu",
        "outputId": "ebebfe1b-42e3-4cdf-9864-00b1e5d493c4"
      },
      "source": [
        "target_ys = np.array([linear_func(x) for x in xes])\n",
        "print(target_ys)"
      ],
      "execution_count": null,
      "outputs": [
        {
          "output_type": "stream",
          "text": [
            "[-2.  -1.5 -1.  -0.5  0.   0.5  1.   1.5  2.   2.5  3. ]\n"
          ],
          "name": "stdout"
        }
      ]
    },
    {
      "cell_type": "code",
      "metadata": {
        "colab": {
          "base_uri": "https://localhost:8080/"
        },
        "id": "hWUSfJYessYU",
        "outputId": "bcb6ef6d-0749-4de2-db37-daf52680c736"
      },
      "source": [
        "noise = np.random.normal(0, 0.1, 11)\n",
        "noisy_target_ys = target_ys + noise\n",
        "\n",
        "print(noisy_target_ys)"
      ],
      "execution_count": null,
      "outputs": [
        {
          "output_type": "stream",
          "text": [
            "[-1.83756546 -1.56117564 -1.05281718 -0.60729686  0.08654076  0.26984613\n",
            "  1.17448118  1.42387931  2.03190391  2.47506296  3.14621079]\n"
          ],
          "name": "stdout"
        }
      ]
    },
    {
      "cell_type": "code",
      "metadata": {
        "colab": {
          "base_uri": "https://localhost:8080/",
          "height": 282
        },
        "id": "plain-boxing",
        "outputId": "186d2059-e6bf-46d0-e3f0-6fe57763d4dc"
      },
      "source": [
        "sns.lineplot(x = xes, y = target_ys, color = \"g\")\n",
        "sns.lineplot(x = xes, y = noisy_target_ys, color = \"b\")\n"
      ],
      "execution_count": null,
      "outputs": [
        {
          "output_type": "execute_result",
          "data": {
            "text/plain": [
              "<matplotlib.axes._subplots.AxesSubplot at 0x7fb00c9c1810>"
            ]
          },
          "metadata": {
            "tags": []
          },
          "execution_count": 7
        },
        {
          "output_type": "display_data",
          "data": {
            "image/png": "[encoded data removed]",
            "text/plain": [
              "<Figure size 432x288 with 1 Axes>"
            ]
          },
          "metadata": {
            "tags": [],
            "needs_background": "light"
          }
        }
      ]
    },
    {
      "cell_type": "markdown",
      "metadata": {
        "id": "upAUZ-7DN3e4"
      },
      "source": [
        "Формируем выборку XOR:"
      ]
    },
    {
      "cell_type": "code",
      "metadata": {
        "id": "LiMvXBQ4naAe",
        "colab": {
          "base_uri": "https://localhost:8080/"
        },
        "outputId": "15280957-26da-4a7c-a711-d8bbeebca459"
      },
      "source": [
        "xor_x = np.random.rand(1000,2) * 2 - 1\n",
        "print(xor_x)"
      ],
      "execution_count": null,
      "outputs": [
        {
          "output_type": "stream",
          "text": [
            "[[-0.71922612 -0.60379702]\n",
            " [ 0.60148914  0.93652315]\n",
            " [-0.37315164  0.38464523]\n",
            " ...\n",
            " [-0.15088018 -0.591755  ]\n",
            " [-0.86582108 -0.60270347]\n",
            " [-0.4551983   0.19757784]]\n"
          ],
          "name": "stdout"
        }
      ]
    },
    {
      "cell_type": "code",
      "metadata": {
        "id": "cQ-Hu3QXnZ9-",
        "colab": {
          "base_uri": "https://localhost:8080/"
        },
        "outputId": "dc862a09-877d-402d-ccfb-c083e1555051"
      },
      "source": [
        "xor_targets = [np.sign(x[0] * x[1]) for x in xor_x]\n",
        "print(xor_targets)"
      ],
      "execution_count": null,
      "outputs": [
        {
          "output_type": "stream",
          "text": [
            "[1.0, 1.0, -1.0, 1.0, 1.0, -1.0, 1.0, 1.0, -1.0, 1.0, -1.0, 1.0, -1.0, 1.0, -1.0, 1.0, -1.0, 1.0, 1.0, -1.0, 1.0, 1.0, -1.0, -1.0, 1.0, 1.0, -1.0, -1.0, 1.0, -1.0, 1.0, 1.0, -1.0, -1.0, -1.0, 1.0, -1.0, -1.0, 1.0, 1.0, -1.0, -1.0, -1.0, 1.0, -1.0, 1.0, 1.0, 1.0, -1.0, 1.0, -1.0, 1.0, 1.0, 1.0, 1.0, 1.0, 1.0, -1.0, -1.0, -1.0, 1.0, -1.0, 1.0, 1.0, -1.0, -1.0, -1.0, -1.0, -1.0, -1.0, 1.0, 1.0, 1.0, 1.0, 1.0, 1.0, -1.0, -1.0, 1.0, -1.0, 1.0, -1.0, -1.0, -1.0, -1.0, 1.0, 1.0, 1.0, 1.0, 1.0, 1.0, 1.0, 1.0, 1.0, 1.0, 1.0, -1.0, 1.0, -1.0, -1.0, -1.0, 1.0, -1.0, -1.0, 1.0, 1.0, -1.0, -1.0, -1.0, -1.0, -1.0, -1.0, -1.0, 1.0, 1.0, 1.0, -1.0, -1.0, 1.0, 1.0, -1.0, 1.0, 1.0, -1.0, -1.0, 1.0, 1.0, -1.0, 1.0, 1.0, -1.0, 1.0, -1.0, -1.0, 1.0, 1.0, 1.0, -1.0, 1.0, 1.0, -1.0, 1.0, 1.0, 1.0, 1.0, -1.0, 1.0, 1.0, 1.0, -1.0, -1.0, -1.0, 1.0, -1.0, -1.0, 1.0, -1.0, -1.0, -1.0, -1.0, 1.0, 1.0, 1.0, -1.0, 1.0, -1.0, 1.0, 1.0, -1.0, -1.0, 1.0, 1.0, 1.0, 1.0, 1.0, -1.0, 1.0, -1.0, 1.0, 1.0, -1.0, -1.0, -1.0, 1.0, -1.0, -1.0, -1.0, 1.0, 1.0, -1.0, 1.0, 1.0, -1.0, -1.0, 1.0, 1.0, -1.0, 1.0, -1.0, -1.0, 1.0, 1.0, 1.0, 1.0, -1.0, -1.0, 1.0, 1.0, -1.0, -1.0, -1.0, -1.0, -1.0, 1.0, 1.0, 1.0, -1.0, 1.0, 1.0, -1.0, 1.0, -1.0, 1.0, -1.0, -1.0, -1.0, -1.0, -1.0, -1.0, 1.0, -1.0, -1.0, 1.0, -1.0, 1.0, -1.0, 1.0, 1.0, -1.0, 1.0, -1.0, 1.0, 1.0, -1.0, -1.0, -1.0, -1.0, 1.0, -1.0, -1.0, 1.0, 1.0, 1.0, -1.0, 1.0, 1.0, -1.0, 1.0, 1.0, -1.0, 1.0, -1.0, 1.0, 1.0, -1.0, -1.0, -1.0, -1.0, 1.0, 1.0, -1.0, -1.0, -1.0, 1.0, -1.0, -1.0, -1.0, 1.0, 1.0, -1.0, -1.0, -1.0, -1.0, -1.0, -1.0, -1.0, -1.0, -1.0, 1.0, 1.0, 1.0, 1.0, 1.0, -1.0, 1.0, -1.0, -1.0, -1.0, -1.0, 1.0, 1.0, -1.0, -1.0, -1.0, 1.0, 1.0, -1.0, -1.0, -1.0, -1.0, 1.0, -1.0, -1.0, 1.0, 1.0, -1.0, 1.0, -1.0, -1.0, -1.0, -1.0, 1.0, -1.0, -1.0, -1.0, -1.0, 1.0, -1.0, 1.0, 1.0, 1.0, 1.0, 1.0, -1.0, 1.0, -1.0, -1.0, -1.0, 1.0, -1.0, -1.0, 1.0, -1.0, 1.0, -1.0, -1.0, 1.0, -1.0, -1.0, -1.0, -1.0, -1.0, 1.0, -1.0, -1.0, 1.0, -1.0, -1.0, 1.0, 1.0, -1.0, -1.0, -1.0, -1.0, -1.0, -1.0, 1.0, 1.0, -1.0, -1.0, -1.0, -1.0, 1.0, 1.0, 1.0, 1.0, 1.0, -1.0, -1.0, 1.0, 1.0, -1.0, -1.0, -1.0, 1.0, -1.0, 1.0, -1.0, -1.0, -1.0, -1.0, -1.0, 1.0, -1.0, -1.0, -1.0, 1.0, -1.0, -1.0, 1.0, 1.0, -1.0, -1.0, 1.0, 1.0, 1.0, 1.0, 1.0, 1.0, 1.0, 1.0, 1.0, -1.0, -1.0, -1.0, -1.0, 1.0, -1.0, -1.0, 1.0, -1.0, -1.0, -1.0, 1.0, 1.0, -1.0, 1.0, 1.0, -1.0, 1.0, 1.0, 1.0, -1.0, -1.0, -1.0, -1.0, 1.0, 1.0, -1.0, 1.0, -1.0, -1.0, -1.0, -1.0, -1.0, -1.0, -1.0, 1.0, -1.0, 1.0, -1.0, 1.0, -1.0, 1.0, 1.0, 1.0, 1.0, 1.0, 1.0, -1.0, -1.0, 1.0, -1.0, -1.0, 1.0, 1.0, -1.0, 1.0, 1.0, -1.0, -1.0, 1.0, 1.0, 1.0, 1.0, -1.0, 1.0, -1.0, 1.0, -1.0, -1.0, 1.0, -1.0, -1.0, -1.0, 1.0, -1.0, -1.0, 1.0, -1.0, -1.0, -1.0, 1.0, 1.0, 1.0, -1.0, -1.0, 1.0, 1.0, 1.0, -1.0, 1.0, -1.0, 1.0, 1.0, 1.0, 1.0, 1.0, -1.0, 1.0, 1.0, 1.0, -1.0, 1.0, -1.0, -1.0, -1.0, -1.0, 1.0, 1.0, -1.0, -1.0, -1.0, 1.0, 1.0, -1.0, -1.0, -1.0, -1.0, 1.0, 1.0, -1.0, -1.0, -1.0, 1.0, -1.0, 1.0, -1.0, 1.0, -1.0, 1.0, -1.0, 1.0, 1.0, 1.0, 1.0, 1.0, -1.0, -1.0, 1.0, -1.0, 1.0, 1.0, -1.0, -1.0, -1.0, 1.0, -1.0, -1.0, 1.0, 1.0, 1.0, -1.0, -1.0, 1.0, -1.0, 1.0, -1.0, 1.0, -1.0, 1.0, 1.0, 1.0, -1.0, 1.0, 1.0, 1.0, 1.0, 1.0, -1.0, -1.0, 1.0, -1.0, -1.0, 1.0, -1.0, -1.0, -1.0, 1.0, 1.0, 1.0, 1.0, 1.0, 1.0, -1.0, -1.0, -1.0, 1.0, -1.0, -1.0, -1.0, 1.0, 1.0, 1.0, -1.0, -1.0, -1.0, -1.0, 1.0, 1.0, 1.0, 1.0, -1.0, 1.0, -1.0, 1.0, -1.0, 1.0, -1.0, 1.0, -1.0, -1.0, 1.0, -1.0, -1.0, -1.0, -1.0, -1.0, 1.0, 1.0, 1.0, 1.0, -1.0, 1.0, 1.0, -1.0, 1.0, -1.0, 1.0, -1.0, -1.0, -1.0, 1.0, 1.0, 1.0, -1.0, 1.0, 1.0, -1.0, 1.0, 1.0, 1.0, -1.0, 1.0, -1.0, -1.0, -1.0, 1.0, -1.0, 1.0, -1.0, 1.0, -1.0, 1.0, 1.0, -1.0, -1.0, -1.0, -1.0, -1.0, 1.0, 1.0, 1.0, 1.0, 1.0, 1.0, -1.0, 1.0, -1.0, -1.0, -1.0, 1.0, -1.0, -1.0, 1.0, -1.0, -1.0, -1.0, -1.0, 1.0, 1.0, -1.0, -1.0, 1.0, -1.0, 1.0, -1.0, 1.0, -1.0, 1.0, 1.0, 1.0, 1.0, -1.0, 1.0, 1.0, -1.0, 1.0, -1.0, 1.0, -1.0, -1.0, 1.0, -1.0, -1.0, 1.0, 1.0, 1.0, 1.0, -1.0, -1.0, 1.0, -1.0, 1.0, 1.0, 1.0, -1.0, 1.0, -1.0, -1.0, -1.0, 1.0, 1.0, -1.0, 1.0, 1.0, -1.0, 1.0, -1.0, 1.0, -1.0, -1.0, -1.0, 1.0, -1.0, 1.0, -1.0, -1.0, -1.0, 1.0, 1.0, -1.0, -1.0, -1.0, 1.0, 1.0, 1.0, -1.0, 1.0, 1.0, -1.0, -1.0, 1.0, 1.0, -1.0, -1.0, 1.0, 1.0, -1.0, 1.0, 1.0, 1.0, 1.0, 1.0, 1.0, -1.0, -1.0, -1.0, -1.0, 1.0, 1.0, -1.0, 1.0, -1.0, 1.0, 1.0, -1.0, 1.0, 1.0, -1.0, 1.0, 1.0, 1.0, -1.0, -1.0, 1.0, 1.0, 1.0, -1.0, 1.0, 1.0, 1.0, 1.0, -1.0, -1.0, -1.0, -1.0, -1.0, 1.0, -1.0, -1.0, -1.0, -1.0, 1.0, -1.0, 1.0, 1.0, -1.0, -1.0, -1.0, -1.0, -1.0, -1.0, 1.0, -1.0, 1.0, -1.0, -1.0, 1.0, -1.0, 1.0, 1.0, 1.0, -1.0, 1.0, 1.0, 1.0, -1.0, -1.0, 1.0, -1.0, -1.0, 1.0, -1.0, -1.0, 1.0, 1.0, 1.0, -1.0, 1.0, -1.0, -1.0, 1.0, 1.0, -1.0, -1.0, -1.0, 1.0, -1.0, -1.0, 1.0, -1.0, 1.0, -1.0, 1.0, 1.0, -1.0, -1.0, -1.0, 1.0, 1.0, -1.0, -1.0, -1.0, 1.0, -1.0, -1.0, -1.0, 1.0, -1.0, 1.0, 1.0, -1.0, 1.0, 1.0, -1.0, 1.0, 1.0, -1.0, 1.0, -1.0, -1.0, -1.0, 1.0, 1.0, 1.0, 1.0, 1.0, 1.0, 1.0, -1.0, -1.0, -1.0, -1.0, 1.0, -1.0, -1.0, -1.0, -1.0, -1.0, 1.0, 1.0, 1.0, -1.0, -1.0, -1.0, 1.0, -1.0, -1.0, 1.0, -1.0, -1.0, -1.0, -1.0, -1.0, 1.0, 1.0, -1.0, -1.0, -1.0, 1.0, -1.0, -1.0, 1.0, -1.0, -1.0, 1.0, 1.0, -1.0, -1.0, -1.0, 1.0, 1.0, -1.0, -1.0, 1.0, 1.0, 1.0, 1.0, -1.0, -1.0, 1.0, -1.0, -1.0, -1.0, 1.0, -1.0, 1.0, -1.0, -1.0, 1.0, -1.0, 1.0, -1.0, -1.0, 1.0, -1.0, 1.0, 1.0, -1.0, 1.0, 1.0, 1.0, 1.0, 1.0, -1.0, 1.0, -1.0, 1.0, 1.0, 1.0, -1.0, 1.0, 1.0, -1.0, 1.0, -1.0, 1.0, -1.0, -1.0, -1.0, 1.0, -1.0, -1.0, -1.0, -1.0, 1.0, 1.0, 1.0, -1.0]\n"
          ],
          "name": "stdout"
        }
      ]
    },
    {
      "cell_type": "code",
      "metadata": {
        "id": "Qtancyv1nZ61",
        "colab": {
          "base_uri": "https://localhost:8080/",
          "height": 350
        },
        "outputId": "ca5ed805-829e-459a-fa25-54b44efe5d31"
      },
      "source": [
        "import pandas as pd\n",
        "\n",
        "df = pd.DataFrame(xor_x, columns=[\"x\", \"y\"])\n",
        "\n",
        "df[\"val\"] = pd.Series(xor_targets).apply(lambda x: \"red\" if x==1 else \"blue\")\n",
        "\n",
        "sns.scatterplot(\"x\", \"y\", data=df, c=df[\"val\"]).plot()"
      ],
      "execution_count": null,
      "outputs": [
        {
          "output_type": "stream",
          "text": [
            "/usr/local/lib/python3.7/dist-packages/seaborn/_decorators.py:43: FutureWarning: Pass the following variables as keyword args: x, y. From version 0.12, the only valid positional argument will be `data`, and passing other arguments without an explicit keyword will result in an error or misinterpretation.\n",
            "  FutureWarning\n"
          ],
          "name": "stderr"
        },
        {
          "output_type": "execute_result",
          "data": {
            "text/plain": [
              "[]"
            ]
          },
          "metadata": {
            "tags": []
          },
          "execution_count": 10
        },
        {
          "output_type": "display_data",
          "data": {
            "image/png": "[encoded data removed]",
            "text/plain": [
              "<Figure size 432x288 with 1 Axes>"
            ]
          },
          "metadata": {
            "tags": [],
            "needs_background": "light"
          }
        }
      ]
    },
    {
      "cell_type": "code",
      "metadata": {
        "id": "pHxGpXsMO-VU"
      },
      "source": [
        "xor_targets_for_net = np.array([[0, 1] if np.sign(x[0] * x[1]) > 0 else [1, 0] for x in xor_x])"
      ],
      "execution_count": null,
      "outputs": []
    },
    {
      "cell_type": "code",
      "metadata": {
        "id": "UtR-f_eaxGvG"
      },
      "source": [
        "def estimate_accuracy(x, y):\n",
        "    result = 0\n",
        "    for i in range(len(x)):\n",
        "        if np.argmax(x[i]) == np.argmax(y[i]):\n",
        "            result += 1\n",
        "    print(\"accuracy is {}\".format(result/len(x) * 100))"
      ],
      "execution_count": null,
      "outputs": []
    },
    {
      "cell_type": "code",
      "metadata": {
        "id": "5OokudeF9mGZ"
      },
      "source": [
        "def BCE_loss_two_inputs(y, target_labels):\n",
        "    eps = 1e-12\n",
        "    target_label = np.argmax(target_labels)\n",
        "    return -(target_label * np.log(y + eps) + (1-target_label) * np.log(1 - y + eps)).sum()\n",
        "\n",
        "def BCE__two_inputs_loss_derivative(y, target_labels):\n",
        "    target_label = np.argmax(target_labels)\n",
        "    return (y - target_label)/(y * (1-y))"
      ],
      "execution_count": null,
      "outputs": []
    },
    {
      "cell_type": "code",
      "metadata": {
        "id": "3EePrMULnlmv"
      },
      "source": [
        "def BCE_loss_one_input(y, target_label):\n",
        "    eps = 1e-12\n",
        "    return -(target_label * np.log(y + eps) + (1-target_label) * np.log(1 - y + eps)).sum()\n",
        "\n",
        "def BCE_one_input_loss_derivative(y, target_label):\n",
        "    return (y - target_label)/(y * (1-y))"
      ],
      "execution_count": null,
      "outputs": []
    },
    {
      "cell_type": "markdown",
      "metadata": {
        "id": "2dj9IPDXhyL4"
      },
      "source": [
        "#Начало нового материала"
      ]
    },
    {
      "cell_type": "code",
      "metadata": {
        "id": "canadian-enough"
      },
      "source": [
        "class LinearLayer:\n",
        "    def __init__(self, input_size, output_size, activation_function, activation_function_derivative):\n",
        "        \n",
        "        self.input_size = input_size\n",
        "        self.output_size = output_size\n",
        "        \n",
        "        self.W = np.random.random_sample((output_size, input_size)) * 2 - 1\n",
        "        self.b = np.random.random_sample((output_size,)) * 2 - 1\n",
        "            \n",
        "        self.grad_W = np.zeros((output_size, input_size))\n",
        "        self.grad_b = np.zeros((output_size,))\n",
        "        \n",
        "        self.activation_function = activation_function\n",
        "        self.activation_function_derivative = activation_function_derivative\n",
        "        \n",
        "    def forward(self, x):\n",
        "        z = self.W @ x + self.b # z^(l+1) = W^(l)*h^(l) + b^(l)\n",
        "        h = self.activation_function(z) # h^(l) = f(z^(l))\n",
        "        return h, z\n",
        "    \n",
        "    def backward(self, delta_next, z, w_next):\n",
        "        return w_next.T @ delta_next * self.activation_function_derivative(z)\n",
        "\n",
        "    def backward_as_last_layer(self, loss_der, z):\n",
        "        return self.activation_function_derivative(z) * loss_der\n",
        "    \n",
        "    def clear_grad(self):\n",
        "        self.grad_W = np.zeros((self.output_size, self.input_size))\n",
        "        self.grad_b = np.zeros((self.output_size,))\n"
      ],
      "execution_count": null,
      "outputs": []
    },
    {
      "cell_type": "markdown",
      "metadata": {
        "id": "RaiwJwUiTLzH"
      },
      "source": [
        "Возьмём функцию потерь MSE:"
      ]
    },
    {
      "cell_type": "code",
      "metadata": {
        "id": "651mBe5dTH-K"
      },
      "source": [
        "def MSE_loss(x, y):\n",
        "    return ((x-y) ** 2).mean()\n",
        "\n",
        "def MSE_loss_deriv(x, y):\n",
        "    return (x - y)"
      ],
      "execution_count": null,
      "outputs": []
    },
    {
      "cell_type": "markdown",
      "metadata": {
        "id": "4B0pmww0TLEv"
      },
      "source": [
        "У нас не было функции активации до, так что можно сказать что она была линейная - f(x)=x, а производная = 1:"
      ]
    },
    {
      "cell_type": "code",
      "metadata": {
        "id": "Pd-PhaB5TJig"
      },
      "source": [
        "def linear_func(x):\n",
        "    return x\n",
        "\n",
        "def linear_func_deriv(x):\n",
        "    return 1\n"
      ],
      "execution_count": null,
      "outputs": []
    },
    {
      "cell_type": "markdown",
      "metadata": {
        "id": "46ACO7k2g3aF"
      },
      "source": [
        "Зададим новую функцию активации — сигмоиду."
      ]
    },
    {
      "cell_type": "code",
      "metadata": {
        "id": "PHPjhkYZTZyo"
      },
      "source": [
        "def sigmoid(x):\n",
        "    return 1 / (1 + np.exp(-x))\n",
        "\n",
        "def sigmoid_deriv(x):\n",
        "    return sigmoid(x) * (1 - sigmoid(x))"
      ],
      "execution_count": null,
      "outputs": []
    },
    {
      "cell_type": "markdown",
      "metadata": {
        "id": "sbdrousfTihY"
      },
      "source": [
        "Уже достаточно похоже на реальную сеть. Составляем её из слоёв, как из конструктора, и потом применяем backward для обучения.\n",
        "\n",
        "h — значения выходов после функции активации, z — значения выходов после применения слоя h = f_act(z)."
      ]
    },
    {
      "cell_type": "code",
      "metadata": {
        "id": "TSe18c-RTZ5B"
      },
      "source": [
        "import tqdm\n",
        "\n",
        "\n",
        "class NN:\n",
        "    def __init__(self, structure, loss, loss_derivative):\n",
        "        self.structure = structure\n",
        "        self.layers = []\n",
        "        self.loss = loss\n",
        "        self.loss_derivative = loss_derivative\n",
        "        for i in range(1, len(structure)):\n",
        "            self.layers.append(LinearLayer(structure[i-1], structure[i], sigmoid, sigmoid_deriv))\n",
        "        \n",
        "    def apply(self, x):\n",
        "        h_array = [x]\n",
        "        z_array = []\n",
        "        for layer in self.layers:\n",
        "            h, z = layer.forward(h_array[-1])\n",
        "            h_array.append(h)\n",
        "            z_array.append(z)\n",
        "        return h_array[-1]\n",
        "    \n",
        "    def forward(self, x):\n",
        "        h_array = [x]\n",
        "        z_array = []\n",
        "        for layer in self.layers:\n",
        "            h, z = layer.forward(h_array[-1])\n",
        "            h_array.append(h)\n",
        "            z_array.append(z)        \n",
        "        return h_array, z_array\n",
        "    \n",
        "    def clear_grad_values(self):\n",
        "        for layer in self.layers:\n",
        "            layer.clear_grad()\n",
        "    \n",
        "    def train(self, X, y, iter_num = 500, alpha = 0.1):\n",
        "        cnt = 0\n",
        "        m = len(y)\n",
        "        avg_cost_func = []     \n",
        "        for _ in tqdm.tqdm(range(iter_num)):    \n",
        "            avg_cost = 0\n",
        "            self.clear_grad_values()\n",
        "            for i in range(len(y)):\n",
        "                # perform the feed forward pass and return the stored h and z values, to be used in the\n",
        "                # gradient descent step\n",
        "                \n",
        "                # one sample per time\n",
        "                h, z = self.forward(X[i, :])             \n",
        "\n",
        "                # backward pass\n",
        "                grads = {}\n",
        "                for layer_num, layer in reversed(list(enumerate(self.layers))):\n",
        "                    if layer_num == len(self.layers) - 1:\n",
        "                        loss_deriv = self.loss_derivative(h[-1], y[i,:])\n",
        "                        grads[layer_num+1] = loss_deriv\n",
        "                        avg_cost += self.loss(h[-1], y[i,:])\n",
        "                        grads[layer_num] = layer.backward_as_last_layer(loss_deriv, z[layer_num])\n",
        "                    else:\n",
        "                        grads[layer_num] = layer.backward(grads[layer_num+1], z[layer_num], self.layers[layer_num+1].W)\n",
        "                    layer.grad_W += grads[layer_num][:,np.newaxis] @ np.transpose(h[layer_num][:,np.newaxis])\n",
        "                    layer.grad_b += grads[layer_num]\n",
        "                        \n",
        "            # update weights\n",
        "            for layer in self.layers:\n",
        "                layer.W -= alpha * (layer.grad_W / m)\n",
        "                layer.b -= alpha * (layer.grad_b / m)\n",
        "                \n",
        "            # complete the average cost calculation\n",
        "            avg_cost = 1.0 / m * avg_cost\n",
        "            avg_cost_func.append(avg_cost)\n",
        "            \n",
        "        return avg_cost_func"
      ],
      "execution_count": null,
      "outputs": []
    },
    {
      "cell_type": "code",
      "metadata": {
        "id": "z2rgWZPhmTPT"
      },
      "source": [
        "np.random.seed(1)\n",
        "\n",
        "xor_x = np.random.rand(100,2) * 2 - 1\n",
        "xor_targets = np.array([[0, 1] if np.sign(x[0] * x[1]) > 0 else [1, 0] for x in xor_x])\n",
        "xor_targets2 = np.array([1 if np.sign(x[0] * x[1]) > 0 else 0 for x in xor_x])"
      ],
      "execution_count": null,
      "outputs": []
    },
    {
      "cell_type": "code",
      "metadata": {
        "id": "-eyYpUaMtGCH",
        "colab": {
          "base_uri": "https://localhost:8080/",
          "height": 299
        },
        "outputId": "d18d7291-a89b-482b-bd27-70199db882e3"
      },
      "source": [
        "np.random.seed(1)\n",
        "\n",
        "N_mse_with_sigm = NN([2,4,2], MSE_loss, MSE_loss_deriv)\n",
        "\n",
        "avg_cost_func = N_mse_with_sigm.train(xor_x, xor_targets, 3000, 0.25)\n",
        "\n",
        "sns.lineplot(data=avg_cost_func)   \n",
        "# get the prediction accuracy and print"
      ],
      "execution_count": null,
      "outputs": [
        {
          "output_type": "stream",
          "text": [
            "100%|██████████| 3000/3000 [00:33<00:00, 90.27it/s]\n"
          ],
          "name": "stderr"
        },
        {
          "output_type": "execute_result",
          "data": {
            "text/plain": [
              "<matplotlib.axes._subplots.AxesSubplot at 0x7fb00c97b210>"
            ]
          },
          "metadata": {
            "tags": []
          },
          "execution_count": 22
        },
        {
          "output_type": "display_data",
          "data": {
            "image/png": "[encoded data removed]",
            "text/plain": [
              "<Figure size 432x288 with 1 Axes>"
            ]
          },
          "metadata": {
            "tags": [],
            "needs_background": "light"
          }
        }
      ]
    },
    {
      "cell_type": "code",
      "metadata": {
        "id": "dKvgTPKdxsvL"
      },
      "source": [
        "def estimate_accuracy_one_output(x, y):\n",
        "    result = 0\n",
        "    for i in range(len(x)):\n",
        "        if int(x[i] > 0.5) == y[i]:\n",
        "            result += 1\n",
        "    print(\"accuracy is {}\".format(result/len(x) * 100))"
      ],
      "execution_count": null,
      "outputs": []
    },
    {
      "cell_type": "code",
      "metadata": {
        "id": "s9ptX1kBEH4E"
      },
      "source": [
        "def predict_classes(NN, x):\n",
        "    return [np.argmax(NN.apply(x_i)) for x_i in x]"
      ],
      "execution_count": null,
      "outputs": []
    },
    {
      "cell_type": "code",
      "metadata": {
        "id": "p-K3utSStcYs",
        "colab": {
          "base_uri": "https://localhost:8080/"
        },
        "outputId": "a39c6eab-b55e-4e40-ec1e-a7b146fd15de"
      },
      "source": [
        "predictions_mse = [N_mse_with_sigm.apply(x) for x in xor_x]\n",
        "\n",
        "estimate_accuracy(predictions_mse, xor_targets)"
      ],
      "execution_count": null,
      "outputs": [
        {
          "output_type": "stream",
          "text": [
            "accuracy is 88.0\n"
          ],
          "name": "stdout"
        }
      ]
    },
    {
      "cell_type": "code",
      "metadata": {
        "id": "dq9_pIU2FxjY",
        "colab": {
          "base_uri": "https://localhost:8080/",
          "height": 299
        },
        "outputId": "c35516d5-8ede-488c-8462-1cc52f28c554"
      },
      "source": [
        "np.random.seed(1)\n",
        "\n",
        "N_bce = NN([2,4,1], BCE_loss_one_input, BCE_one_input_loss_derivative)\n",
        "\n",
        "avg_cost_func = N_bce.train(xor_x, xor_targets2.reshape(-1, 1), 5000, 0.25)\n",
        "\n",
        "sns.lineplot(data=avg_cost_func)\n",
        "# get the prediction accuracy and print"
      ],
      "execution_count": null,
      "outputs": [
        {
          "output_type": "stream",
          "text": [
            "100%|██████████| 5000/5000 [00:48<00:00, 103.24it/s]\n"
          ],
          "name": "stderr"
        },
        {
          "output_type": "execute_result",
          "data": {
            "text/plain": [
              "<matplotlib.axes._subplots.AxesSubplot at 0x7fb0095d5050>"
            ]
          },
          "metadata": {
            "tags": []
          },
          "execution_count": 26
        },
        {
          "output_type": "display_data",
          "data": {
            "image/png": "[encoded data removed]",
            "text/plain": [
              "<Figure size 432x288 with 1 Axes>"
            ]
          },
          "metadata": {
            "tags": [],
            "needs_background": "light"
          }
        }
      ]
    },
    {
      "cell_type": "code",
      "metadata": {
        "id": "8V-fQNVkFxsm",
        "colab": {
          "base_uri": "https://localhost:8080/"
        },
        "outputId": "67bd14f9-087b-42a7-c025-4f6e14567582"
      },
      "source": [
        "predictions_bce = [N_bce.apply(x) for x in xor_x]\n",
        "\n",
        "estimate_accuracy_one_output(predictions_bce, xor_targets2)"
      ],
      "execution_count": null,
      "outputs": [
        {
          "output_type": "stream",
          "text": [
            "accuracy is 99.0\n"
          ],
          "name": "stdout"
        }
      ]
    },
    {
      "cell_type": "markdown",
      "metadata": {
        "id": "h-_B0ZpiThsA"
      },
      "source": [
        "Тест того, что получилось, на линейной выборке:\n",
        "\n"
      ]
    },
    {
      "cell_type": "code",
      "metadata": {
        "id": "2JylYemMULBg",
        "colab": {
          "base_uri": "https://localhost:8080/",
          "height": 316
        },
        "outputId": "1b8e8270-effe-48da-92e2-62cf1aecf50e"
      },
      "source": [
        "N = NN([1,2,1], MSE_loss, MSE_loss_deriv)\n",
        "\n",
        "print(N.apply([1]))\n",
        "\n",
        "avg_cost_func = N.train(xes.reshape(-1, 1), target_ys.reshape(-1, 1), 1000, 0.5)\n",
        "    \n",
        "sns.lineplot(data=avg_cost_func)\n",
        "# get the prediction accuracy and print\n",
        "prediction = N.apply([2])\n",
        "print(prediction)"
      ],
      "execution_count": null,
      "outputs": [
        {
          "output_type": "stream",
          "text": [
            " 12%|█▏        | 117/1000 [00:00<00:00, 1169.09it/s]"
          ],
          "name": "stderr"
        },
        {
          "output_type": "stream",
          "text": [
            "[0.6377496]\n"
          ],
          "name": "stdout"
        },
        {
          "output_type": "stream",
          "text": [
            "100%|██████████| 1000/1000 [00:00<00:00, 1077.34it/s]\n"
          ],
          "name": "stderr"
        },
        {
          "output_type": "stream",
          "text": [
            "[0.99849655]\n"
          ],
          "name": "stdout"
        },
        {
          "output_type": "display_data",
          "data": {
            "image/png": "[encoded data removed]",
            "text/plain": [
              "<Figure size 432x288 with 1 Axes>"
            ]
          },
          "metadata": {
            "tags": [],
            "needs_background": "light"
          }
        }
      ]
    }
  ]
}