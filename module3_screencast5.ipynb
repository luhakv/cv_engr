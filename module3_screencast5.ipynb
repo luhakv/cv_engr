{
  "nbformat": 4,
  "nbformat_minor": 0,
  "metadata": {
    "colab": {
      "name": "module3_screencast5.ipynb",
      "provenance": [],
      "collapsed_sections": []
    },
    "kernelspec": {
      "name": "python3",
      "display_name": "Python 3"
    },
    "language_info": {
      "name": "python"
    }
  },
  "cells": [
    {
      "cell_type": "markdown",
      "metadata": {
        "id": "oA2jzY_8jnEJ"
      },
      "source": [
        "#Аналогия с PyTorch"
      ]
    },
    {
      "cell_type": "code",
      "metadata": {
        "id": "_wViSQ0garh1"
      },
      "source": [
        "import torch\n",
        "import numpy as np\n",
        "import random\n",
        "\n",
        "\n",
        "np.random.seed(0)\n",
        "random.seed(0)\n",
        "torch.manual_seed(0)\n",
        "torch.use_deterministic_algorithms(True)\n",
        "\n",
        "\n",
        "data = [[1, 2],[3, 4]]\n",
        "x_data = torch.tensor(data)\n",
        "\n",
        "np_array = np.array(data)\n",
        "x_np = torch.from_numpy(np_array)"
      ],
      "execution_count": null,
      "outputs": []
    },
    {
      "cell_type": "code",
      "metadata": {
        "id": "-SCGwlhesSTg",
        "colab": {
          "base_uri": "https://localhost:8080/"
        },
        "outputId": "e785964d-8faa-44be-d70c-43d2cc0e5239"
      },
      "source": [
        "shape = (2,3,)\n",
        "rand_tensor = torch.rand(shape)\n",
        "ones_tensor = torch.ones(shape)\n",
        "zeros_tensor = torch.zeros(shape)\n",
        "\n",
        "print(f\"Random Tensor: \\n {rand_tensor} \\n\")\n",
        "print(f\"Ones Tensor: \\n {ones_tensor} \\n\")\n",
        "print(f\"Zeros Tensor: \\n {zeros_tensor}\")\n",
        "\n"
      ],
      "execution_count": null,
      "outputs": [
        {
          "output_type": "stream",
          "text": [
            "Random Tensor: \n",
            " tensor([[0.4963, 0.7682, 0.0885],\n",
            "        [0.1320, 0.3074, 0.6341]]) \n",
            "\n",
            "Ones Tensor: \n",
            " tensor([[1., 1., 1.],\n",
            "        [1., 1., 1.]]) \n",
            "\n",
            "Zeros Tensor: \n",
            " tensor([[0., 0., 0.],\n",
            "        [0., 0., 0.]])\n"
          ],
          "name": "stdout"
        }
      ]
    },
    {
      "cell_type": "code",
      "metadata": {
        "id": "tH_oQI3osW2j",
        "colab": {
          "base_uri": "https://localhost:8080/"
        },
        "outputId": "d26fa6af-36f7-4c30-d8dd-828e7e0e4bc5"
      },
      "source": [
        "tensor = torch.rand(3,4)\n",
        "\n",
        "print(f\"Shape of tensor: {tensor.shape}\")\n",
        "print(f\"Datatype of tensor: {tensor.dtype}\")\n",
        "print(f\"Device tensor is stored on: {tensor.device}\")"
      ],
      "execution_count": null,
      "outputs": [
        {
          "output_type": "stream",
          "text": [
            "Shape of tensor: torch.Size([3, 4])\n",
            "Datatype of tensor: torch.float32\n",
            "Device tensor is stored on: cpu\n"
          ],
          "name": "stdout"
        }
      ]
    },
    {
      "cell_type": "code",
      "metadata": {
        "id": "Ru5RzCcmsX0J",
        "colab": {
          "base_uri": "https://localhost:8080/"
        },
        "outputId": "9abe9a34-760a-449e-be40-b9d116764e12"
      },
      "source": [
        "# We move our tensor to the GPU if available\n",
        "if torch.cuda.is_available():\n",
        "  tensor = tensor.to('cuda')\n",
        "print(f\"Device tensor is stored on: {tensor.device}\")"
      ],
      "execution_count": null,
      "outputs": [
        {
          "output_type": "stream",
          "text": [
            "Device tensor is stored on: cpu\n"
          ],
          "name": "stdout"
        }
      ]
    },
    {
      "cell_type": "code",
      "metadata": {
        "id": "ZqVjiP0NsbNb",
        "colab": {
          "base_uri": "https://localhost:8080/"
        },
        "outputId": "24c05738-21e0-400b-ed5f-46edd6905e3a"
      },
      "source": [
        "import torch\n",
        "from torch.utils.data import Dataset\n",
        "from torchvision import datasets\n",
        "from torchvision.transforms import ToTensor\n",
        "import matplotlib.pyplot as plt\n",
        "from torch.utils.data import DataLoader\n",
        "\n",
        "training_data = datasets.FashionMNIST(\n",
        "    root=\"data\",\n",
        "    train=True,\n",
        "    download=True,\n",
        "    transform=ToTensor()\n",
        ")\n",
        "\n",
        "test_data = datasets.FashionMNIST(\n",
        "    root=\"data\",\n",
        "    train=False,\n",
        "    download=True,\n",
        "    transform=ToTensor()\n",
        ")\n",
        "\n",
        "train_dataloader = DataLoader(training_data, batch_size=64, worker_init_fn=np.random.seed(0), num_workers=0)\n",
        "test_dataloader = DataLoader(test_data, batch_size=64, worker_init_fn=np.random.seed(0), num_workers=0)"
      ],
      "execution_count": null,
      "outputs": [
        {
          "output_type": "stream",
          "text": [
            "/usr/local/lib/python3.7/dist-packages/torchvision/datasets/mnist.py:498: UserWarning: The given NumPy array is not writeable, and PyTorch does not support non-writeable tensors. This means you can write to the underlying (supposedly non-writeable) NumPy array using the tensor. You may want to copy the array to protect its data or make it writeable before converting it to a tensor. This type of warning will be suppressed for the rest of this program. (Triggered internally at  /pytorch/torch/csrc/utils/tensor_numpy.cpp:180.)\n",
            "  return torch.from_numpy(parsed.astype(m[2], copy=False)).view(*s)\n"
          ],
          "name": "stderr"
        }
      ]
    },
    {
      "cell_type": "code",
      "metadata": {
        "id": "jFGifF22smSa",
        "colab": {
          "base_uri": "https://localhost:8080/",
          "height": 482
        },
        "outputId": "449e9527-cfcb-4434-ef63-2c33c7b26f14"
      },
      "source": [
        "labels_map = {\n",
        "    0: \"T-Shirt\",\n",
        "    1: \"Trouser\",\n",
        "    2: \"Pullover\",\n",
        "    3: \"Dress\",\n",
        "    4: \"Coat\",\n",
        "    5: \"Sandal\",\n",
        "    6: \"Shirt\",\n",
        "    7: \"Sneaker\",\n",
        "    8: \"Bag\",\n",
        "    9: \"Ankle Boot\",\n",
        "}\n",
        "figure = plt.figure(figsize=(8, 8))\n",
        "cols, rows = 3, 3\n",
        "for i in range(1, cols * rows + 1):\n",
        "    sample_idx = torch.randint(len(training_data), size=(1,)).item()\n",
        "    img, label = training_data[sample_idx]\n",
        "    figure.add_subplot(rows, cols, i)\n",
        "    plt.title(labels_map[label])\n",
        "    plt.axis(\"off\")\n",
        "    plt.imshow(img.squeeze(), cmap=\"gray\")\n",
        "plt.show()"
      ],
      "execution_count": null,
      "outputs": [
        {
          "output_type": "display_data",
          "data": {
            "image/png": "[encoded data removed]",
            "text/plain": [
              "<Figure size 576x576 with 9 Axes>"
            ]
          },
          "metadata": {
            "tags": [],
            "needs_background": "light"
          }
        }
      ]
    },
    {
      "cell_type": "code",
      "metadata": {
        "id": "nsTG-VsMs1x-"
      },
      "source": [
        "from torch import nn\n",
        "class NeuralNetwork(nn.Module):\n",
        "    def __init__(self):\n",
        "        super(NeuralNetwork, self).__init__()\n",
        "        self.flatten = nn.Flatten()\n",
        "        self.linear_relu_stack = nn.Sequential(\n",
        "            nn.Linear(28*28, 512),\n",
        "            nn.ReLU(),\n",
        "            nn.Linear(512, 512),\n",
        "            nn.ReLU(),\n",
        "            nn.Linear(512, 10),\n",
        "            nn.ReLU()\n",
        "        )\n",
        "\n",
        "    def forward(self, x):\n",
        "        x = self.flatten(x)\n",
        "        logits = self.linear_relu_stack(x)\n",
        "        return logits"
      ],
      "execution_count": null,
      "outputs": []
    },
    {
      "cell_type": "code",
      "metadata": {
        "id": "cE1ZUsxls9Wt",
        "colab": {
          "base_uri": "https://localhost:8080/"
        },
        "outputId": "80d99501-023f-4071-c314-acf7d2d7fb1a"
      },
      "source": [
        "device = \"cpu\"\n",
        "\n",
        "model = NeuralNetwork().to(device)\n",
        "print(model)\n",
        "\n",
        "X = torch.rand(1, 28, 28, device=device)\n",
        "logits = model(X)\n",
        "pred_probab = nn.Softmax(dim=1)(logits)\n",
        "y_pred = pred_probab.argmax(1)\n",
        "print(f\"Predicted class: {y_pred}\")"
      ],
      "execution_count": null,
      "outputs": [
        {
          "output_type": "stream",
          "text": [
            "NeuralNetwork(\n",
            "  (flatten): Flatten(start_dim=1, end_dim=-1)\n",
            "  (linear_relu_stack): Sequential(\n",
            "    (0): Linear(in_features=784, out_features=512, bias=True)\n",
            "    (1): ReLU()\n",
            "    (2): Linear(in_features=512, out_features=512, bias=True)\n",
            "    (3): ReLU()\n",
            "    (4): Linear(in_features=512, out_features=10, bias=True)\n",
            "    (5): ReLU()\n",
            "  )\n",
            ")\n",
            "Predicted class: tensor([3])\n"
          ],
          "name": "stdout"
        }
      ]
    },
    {
      "cell_type": "code",
      "metadata": {
        "id": "XS2DcrdHtBE6",
        "colab": {
          "base_uri": "https://localhost:8080/"
        },
        "outputId": "77e113b0-c3a6-4cf3-a374-f46fcefb6a22"
      },
      "source": [
        "input_image = torch.rand(3,28,28)\n",
        "print(input_image.size())\n",
        "\n",
        "flatten = nn.Flatten()\n",
        "flat_image = flatten(input_image)\n",
        "print(flat_image.size())\n",
        "\n",
        "layer1 = nn.Linear(in_features=28*28, out_features=20)\n",
        "hidden1 = layer1(flat_image)\n",
        "print(hidden1.size())"
      ],
      "execution_count": null,
      "outputs": [
        {
          "output_type": "stream",
          "text": [
            "torch.Size([3, 28, 28])\n",
            "torch.Size([3, 784])\n",
            "torch.Size([3, 20])\n"
          ],
          "name": "stdout"
        }
      ]
    },
    {
      "cell_type": "code",
      "metadata": {
        "id": "Jo-Q89LbtMqX"
      },
      "source": [
        "x = torch.ones(5)  # input tensor\n",
        "y = torch.zeros(3)  # expected output\n",
        "w = torch.randn(5, 3, requires_grad=True)\n",
        "b = torch.randn(3, requires_grad=True)\n",
        "z = torch.matmul(x, w)+b\n",
        "loss = torch.nn.functional.binary_cross_entropy_with_logits(z, y)"
      ],
      "execution_count": null,
      "outputs": []
    },
    {
      "cell_type": "code",
      "metadata": {
        "id": "VNnkoB7FtQhA",
        "colab": {
          "base_uri": "https://localhost:8080/"
        },
        "outputId": "5f895ac2-4f20-44be-e592-905fba2d99a8"
      },
      "source": [
        "print('Gradient function for z =',z.grad_fn)\n",
        "print('Gradient function for loss =', loss.grad_fn)\n",
        "loss.backward()\n",
        "print(w.grad)\n",
        "print(b.grad)"
      ],
      "execution_count": null,
      "outputs": [
        {
          "output_type": "stream",
          "text": [
            "Gradient function for z = <AddBackward0 object at 0x7f87d17cbf50>\n",
            "Gradient function for loss = <BinaryCrossEntropyWithLogitsBackward object at 0x7f87d17cbf90>\n",
            "tensor([[0.0527, 0.0099, 0.3289],\n",
            "        [0.0527, 0.0099, 0.3289],\n",
            "        [0.0527, 0.0099, 0.3289],\n",
            "        [0.0527, 0.0099, 0.3289],\n",
            "        [0.0527, 0.0099, 0.3289]])\n",
            "tensor([0.0527, 0.0099, 0.3289])\n"
          ],
          "name": "stdout"
        }
      ]
    },
    {
      "cell_type": "code",
      "metadata": {
        "id": "SxNPOoX4tUja",
        "colab": {
          "base_uri": "https://localhost:8080/"
        },
        "outputId": "8ff8d8f0-b2fc-4dd4-c8a6-3b70e16ef814"
      },
      "source": [
        "z = torch.matmul(x, w)+b\n",
        "print(z.requires_grad)\n",
        "\n",
        "with torch.no_grad():\n",
        "    z = torch.matmul(x, w)+b\n",
        "print(z.requires_grad)"
      ],
      "execution_count": null,
      "outputs": [
        {
          "output_type": "stream",
          "text": [
            "True\n",
            "False\n"
          ],
          "name": "stdout"
        }
      ]
    },
    {
      "cell_type": "code",
      "metadata": {
        "id": "oflStLcbtlOR"
      },
      "source": [
        "def train_loop(dataloader, model, loss_fn, optimizer):\n",
        "    size = len(dataloader.dataset)\n",
        "    for batch, (X, y) in enumerate(dataloader):\n",
        "        # Compute prediction and loss\n",
        "        pred = model(X)\n",
        "        loss = loss_fn(pred, y)\n",
        "\n",
        "        # Backpropagation\n",
        "        optimizer.zero_grad()\n",
        "        loss.backward()\n",
        "        optimizer.step()\n",
        "\n",
        "        if batch % 100 == 0:\n",
        "            loss, current = loss.item(), batch * len(X)\n",
        "            print(f\"loss: {loss:>7f}  [{current:>5d}/{size:>5d}]\")\n",
        "\n",
        "\n",
        "def test_loop(dataloader, model, loss_fn):\n",
        "    size = len(dataloader.dataset)\n",
        "    num_batches = len(dataloader)\n",
        "    test_loss, correct = 0, 0\n",
        "\n",
        "    with torch.no_grad():\n",
        "        for X, y in dataloader:\n",
        "            pred = model(X)\n",
        "            test_loss += loss_fn(pred, y).item()\n",
        "            correct += (pred.argmax(1) == y).type(torch.float).sum().item()\n",
        "\n",
        "    test_loss /= num_batches\n",
        "    correct /= size\n",
        "    print(f\"Test Error: \\n Accuracy: {(100*correct):>0.1f}%, Avg loss: {test_loss:>8f} \\n\")"
      ],
      "execution_count": null,
      "outputs": []
    },
    {
      "cell_type": "code",
      "metadata": {
        "id": "JHKFEmSKtomx",
        "colab": {
          "base_uri": "https://localhost:8080/"
        },
        "outputId": "893e8a18-b5c3-4d5f-e4fa-e5ba03fa4f22"
      },
      "source": [
        "learning_rate = 1e-3\n",
        "batch_size = 64\n",
        "epochs = 5\n",
        "\n",
        "loss_fn = nn.CrossEntropyLoss()\n",
        "optimizer = torch.optim.SGD(model.parameters(), lr=learning_rate)\n",
        "\n",
        "for t in range(epochs):\n",
        "    print(f\"Epoch {t+1}\\n-------------------------------\")\n",
        "    train_loop(train_dataloader, model, loss_fn, optimizer)\n",
        "    test_loop(test_dataloader, model, loss_fn)\n",
        "print(\"Done!\")"
      ],
      "execution_count": null,
      "outputs": [
        {
          "output_type": "stream",
          "text": [
            "Epoch 1\n",
            "-------------------------------\n",
            "loss: 2.297958  [    0/60000]\n",
            "loss: 2.288882  [ 6400/60000]\n",
            "loss: 2.281384  [12800/60000]\n",
            "loss: 2.287782  [19200/60000]\n",
            "loss: 2.266793  [25600/60000]\n",
            "loss: 2.257208  [32000/60000]\n",
            "loss: 2.256465  [38400/60000]\n",
            "loss: 2.231827  [44800/60000]\n",
            "loss: 2.239843  [51200/60000]\n",
            "loss: 2.250407  [57600/60000]\n",
            "Test Error: \n",
            " Accuracy: 49.6%, Avg loss: 2.222431 \n",
            "\n",
            "Epoch 2\n",
            "-------------------------------\n",
            "loss: 2.217305  [    0/60000]\n",
            "loss: 2.208369  [ 6400/60000]\n",
            "loss: 2.182186  [12800/60000]\n",
            "loss: 2.212437  [19200/60000]\n",
            "loss: 2.150160  [25600/60000]\n",
            "loss: 2.155298  [32000/60000]\n",
            "loss: 2.147122  [38400/60000]\n",
            "loss: 2.098197  [44800/60000]\n",
            "loss: 2.126626  [51200/60000]\n",
            "loss: 2.148791  [57600/60000]\n",
            "Test Error: \n",
            " Accuracy: 51.2%, Avg loss: 2.080842 \n",
            "\n",
            "Epoch 3\n",
            "-------------------------------\n",
            "loss: 2.071595  [    0/60000]\n",
            "loss: 2.053837  [ 6400/60000]\n",
            "loss: 1.989463  [12800/60000]\n",
            "loss: 2.068660  [19200/60000]\n",
            "loss: 1.935505  [25600/60000]\n",
            "loss: 1.980097  [32000/60000]\n",
            "loss: 1.961656  [38400/60000]\n",
            "loss: 1.875173  [44800/60000]\n",
            "loss: 1.950855  [51200/60000]\n",
            "loss: 2.001535  [57600/60000]\n",
            "Test Error: \n",
            " Accuracy: 51.5%, Avg loss: 1.867854 \n",
            "\n",
            "Epoch 4\n",
            "-------------------------------\n",
            "loss: 1.856283  [    0/60000]\n",
            "loss: 1.830781  [ 6400/60000]\n",
            "loss: 1.725119  [12800/60000]\n",
            "loss: 1.877525  [19200/60000]\n",
            "loss: 1.680678  [25600/60000]\n",
            "loss: 1.780887  [32000/60000]\n",
            "loss: 1.757184  [38400/60000]\n",
            "loss: 1.645957  [44800/60000]\n",
            "loss: 1.781124  [51200/60000]\n",
            "loss: 1.878422  [57600/60000]\n",
            "Test Error: \n",
            " Accuracy: 53.6%, Avg loss: 1.676532 \n",
            "\n",
            "Epoch 5\n",
            "-------------------------------\n",
            "loss: 1.657050  [    0/60000]\n",
            "loss: 1.640220  [ 6400/60000]\n",
            "loss: 1.508514  [12800/60000]\n",
            "loss: 1.728789  [19200/60000]\n",
            "loss: 1.493852  [25600/60000]\n",
            "loss: 1.646995  [32000/60000]\n",
            "loss: 1.615324  [38400/60000]\n",
            "loss: 1.498074  [44800/60000]\n",
            "loss: 1.658330  [51200/60000]\n",
            "loss: 1.799903  [57600/60000]\n",
            "Test Error: \n",
            " Accuracy: 56.4%, Avg loss: 1.548371 \n",
            "\n",
            "Done!\n"
          ],
          "name": "stdout"
        }
      ]
    },
    {
      "cell_type": "code",
      "metadata": {
        "id": "zYK6kIkdj2vy"
      },
      "source": [
        ""
      ],
      "execution_count": null,
      "outputs": []
    }
  ]
}