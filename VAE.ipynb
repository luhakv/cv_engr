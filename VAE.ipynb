{
  "nbformat": 4,
  "nbformat_minor": 0,
  "metadata": {
    "colab": {
      "name": "VAE.ipynb",
      "provenance": [],
      "collapsed_sections": []
    },
    "kernelspec": {
      "name": "python3",
      "display_name": "Python 3"
    },
    "language_info": {
      "name": "python"
    }
  },
  "cells": [
    {
      "cell_type": "markdown",
      "metadata": {
        "id": "KGkfdVHFlvEy"
      },
      "source": [
        "# Импорт библиотек"
      ]
    },
    {
      "cell_type": "code",
      "metadata": {
        "id": "C1SgOu3ZEy8k"
      },
      "source": [
        "import torch\n",
        "import torch.nn as nn\n",
        "import torch.nn.functional as F"
      ],
      "execution_count": 1,
      "outputs": []
    },
    {
      "cell_type": "code",
      "metadata": {
        "id": "JriDuoAHFSgV"
      },
      "source": [
        "import scipy.io\n",
        "import torch\n",
        "import torch.optim as optim\n",
        "import torch.nn as nn\n",
        "from torch.utils.data import DataLoader, Dataset\n",
        "from tqdm import tqdm\n",
        "from torchvision.utils import save_image"
      ],
      "execution_count": 2,
      "outputs": []
    },
    {
      "cell_type": "markdown",
      "metadata": {
        "id": "GpQcVlcpl0ds"
      },
      "source": [
        "# Загрузка данных"
      ]
    },
    {
      "cell_type": "code",
      "metadata": {
        "id": "1b5MZAj0FWgM",
        "colab": {
          "base_uri": "https://localhost:8080/"
        },
        "outputId": "7eac4b7b-1bf3-4b08-f9a2-64e2698ff021"
      },
      "source": [
        "# Переведем данные в привычный нам NumPy формат\n",
        "mat_data = scipy.io.loadmat('./frey_rawface.mat')\n",
        "data = mat_data['ff'].T.reshape(-1, 1, 28, 20)\n",
        "data = data.astype('float32') / 255.0\n",
        "print(f\"Number of instances: {len(data)}\")"
      ],
      "execution_count": 5,
      "outputs": [
        {
          "output_type": "stream",
          "name": "stdout",
          "text": [
            "Number of instances: 1965\n"
          ]
        }
      ]
    },
    {
      "cell_type": "code",
      "metadata": {
        "id": "av1ZCYNMFd9e"
      },
      "source": [
        "# Подготовка torch датасета\n",
        "class FreyDataset(Dataset):\n",
        "    def __init__(self, X):\n",
        "        self.X = X\n",
        "    def __len__(self):\n",
        "        return (len(self.X))\n",
        "    def __getitem__(self, index):\n",
        "        data = self.X[index]\n",
        "        return torch.tensor(data, dtype=torch.float)"
      ],
      "execution_count": 8,
      "outputs": []
    },
    {
      "cell_type": "markdown",
      "metadata": {
        "id": "od9bw76EmUdA"
      },
      "source": [
        "## Задание 1. Разделите данные на `train` и `val` части. К `val` отнесите последние 300 объектов. Подготовьте данные для обучения с помощью `FreyDataset` и `DataLoader`."
      ]
    },
    {
      "cell_type": "code",
      "metadata": {
        "id": "2AuayEE0nRXd"
      },
      "source": [
        "x_train = ###   ВАШ КОД ЗДЕСЬ  ###\n",
        "x_val = ###   ВАШ КОД ЗДЕСЬ  ###\n",
        "print(f\"Training instances: {len(x_train)}\")\n",
        "print(f\"Validation instances: {len(x_val)}\")"
      ],
      "execution_count": null,
      "outputs": []
    },
    {
      "cell_type": "code",
      "metadata": {
        "id": "a2HbjBh4n5Pn"
      },
      "source": [
        "batch_size = 64\n",
        "\n",
        "train_loader = ###   ВАШ КОД ЗДЕСЬ  ###\n",
        "val_loader = ###   ВАШ КОД ЗДЕСЬ   ###"
      ],
      "execution_count": null,
      "outputs": []
    },
    {
      "cell_type": "code",
      "metadata": {
        "id": "XD5VOPC6FMg4"
      },
      "source": [
        "kernel_size = 4\n",
        "stride = 1\n",
        "padding = 0\n",
        "init_kernel = 16 "
      ],
      "execution_count": 10,
      "outputs": []
    },
    {
      "cell_type": "markdown",
      "metadata": {
        "id": "U2Y6EtzxpHrk"
      },
      "source": [
        "# Вариационныей автоэнкодер"
      ]
    },
    {
      "cell_type": "markdown",
      "metadata": {
        "id": "vre-OvcUx4le"
      },
      "source": [
        "## Задание 2. Допишите трюк репараметризации в функции `reparameterize`. \n",
        "\n",
        "*Подробнее о трюке можно узнать в [дополнительных материалах](https://drive.google.com/file/d/18LWM4jROW6A89B7XEpH6w66M5BomGUKn/view?usp=sharing).*"
      ]
    },
    {
      "cell_type": "code",
      "metadata": {
        "id": "S584SqI9yepn"
      },
      "source": [
        "class ConvVAE(nn.Module):\n",
        "    def __init__(self):\n",
        "        super(ConvVAE, self).__init__()\n",
        " \n",
        "        # энкодер\n",
        "        self.enc1 = nn.Conv2d(\n",
        "            in_channels=1, out_channels=init_kernel, kernel_size=kernel_size, \n",
        "            stride=stride, padding=padding\n",
        "        )\n",
        "        self.enc2 = nn.Conv2d(\n",
        "            in_channels=init_kernel, out_channels=init_kernel*2, kernel_size=kernel_size, \n",
        "            stride=stride, padding=padding\n",
        "        )\n",
        "        self.enc3 = nn.Conv2d(\n",
        "            in_channels=init_kernel*2, out_channels=init_kernel*4, kernel_size=kernel_size, \n",
        "            stride=stride, padding=padding\n",
        "        )\n",
        "        self.enc4 = nn.Conv2d(\n",
        "            in_channels=init_kernel*4, out_channels=init_kernel*8, kernel_size=kernel_size, \n",
        "            stride=stride, padding=padding\n",
        "        )\n",
        "        self.enc5 = nn.Conv2d(\n",
        "            in_channels=init_kernel*8, out_channels=init_kernel, kernel_size=kernel_size, \n",
        "            stride=stride, padding=padding\n",
        "        )\n",
        "        # декодер \n",
        "        self.dec1 = nn.ConvTranspose2d(\n",
        "            in_channels=init_kernel, out_channels=init_kernel*8, kernel_size=kernel_size, \n",
        "            stride=stride, padding=padding\n",
        "        )\n",
        "        self.dec2 = nn.ConvTranspose2d(\n",
        "            in_channels=init_kernel*8, out_channels=init_kernel*4, kernel_size=kernel_size, \n",
        "            stride=stride, padding=padding\n",
        "        )\n",
        "        self.dec3 = nn.ConvTranspose2d(\n",
        "            in_channels=init_kernel*4, out_channels=init_kernel*2, kernel_size=kernel_size, \n",
        "            stride=stride, padding=padding\n",
        "        )\n",
        "        self.dec4 = nn.ConvTranspose2d(\n",
        "            in_channels=init_kernel*2, out_channels=init_kernel, kernel_size=kernel_size, \n",
        "            stride=stride, padding=padding\n",
        "        )\n",
        "        self.dec5 = nn.ConvTranspose2d(\n",
        "            in_channels=init_kernel, out_channels=1, kernel_size=kernel_size, \n",
        "            stride=stride, padding=padding\n",
        "        )\n",
        "    def reparameterize(self, mu, log_var):\n",
        "        \n",
        "        ###   ВАШ КОД ЗДЕСЬ   ###\n",
        "        \n",
        "        return sample\n",
        " \n",
        "    def forward(self, x):\n",
        "        # кодирование\n",
        "        x = F.relu(self.enc1(x))\n",
        "        x = F.relu(self.enc2(x))\n",
        "        x = F.relu(self.enc3(x))\n",
        "        x = F.relu(self.enc4(x))\n",
        "        x = self.enc5(x)\n",
        "        # сэмплирование среднего и logvar\n",
        "        mu = x\n",
        "        log_var = x\n",
        "        # получаем латентное предстваление через репораметризацию\n",
        "        z = self.reparameterize(mu, log_var)\n",
        " \n",
        "        # декодирование\n",
        "        x = F.relu(self.dec1(z))\n",
        "        x = F.relu(self.dec2(x))\n",
        "        x = F.relu(self.dec3(x))\n",
        "        x = F.relu(self.dec4(x))\n",
        "        reconstruction = torch.sigmoid(self.dec5(x))\n",
        "        return reconstruction, mu, log_var"
      ],
      "execution_count": null,
      "outputs": []
    },
    {
      "cell_type": "code",
      "metadata": {
        "id": "xBTEiLHHFO7P"
      },
      "source": [
        "lr = 0.001\n",
        "epochs = 20\n",
        "device = torch.device('cuda' if torch.cuda.is_available() else 'cpu')"
      ],
      "execution_count": 12,
      "outputs": []
    },
    {
      "cell_type": "code",
      "metadata": {
        "id": "acRIw67VFimf"
      },
      "source": [
        "model = ConvVAE().to(device)\n",
        "optimizer = optim.Adam(model.parameters(), lr=lr)\n",
        "criterion = nn.BCELoss(reduction='sum')"
      ],
      "execution_count": 14,
      "outputs": []
    },
    {
      "cell_type": "markdown",
      "metadata": {
        "id": "uQr9FPCky9rD"
      },
      "source": [
        "## Задание 3. Прежде, чем перейти к обучению модели, определите функцию потерь VAE."
      ]
    },
    {
      "cell_type": "code",
      "metadata": {
        "id": "GBGRkng8zMqs"
      },
      "source": [
        "def final_loss(bce_loss, mu, logvar):\n",
        "\n",
        "    ###   ВАШ КОД ЗДЕСЬ   ###"
      ],
      "execution_count": null,
      "outputs": []
    },
    {
      "cell_type": "markdown",
      "metadata": {
        "id": "1iTeFIy1zb9f"
      },
      "source": [
        "## Обучение модели"
      ]
    },
    {
      "cell_type": "code",
      "metadata": {
        "id": "2Pr8lM_OFsE0"
      },
      "source": [
        "def fit(model, dataloader):\n",
        "    model.train()\n",
        "    running_loss = 0.0\n",
        "    for i, data in tqdm(enumerate(dataloader), total=int(len(train_data)/dataloader.batch_size)):\n",
        "        data= data\n",
        "        data = data.to(device)\n",
        "        data = data\n",
        "        optimizer.zero_grad()\n",
        "        reconstruction, mu, logvar = model(data)\n",
        "        bce_loss = criterion(reconstruction, data)\n",
        "        loss = final_loss(bce_loss, mu, logvar)\n",
        "        loss.backward()\n",
        "        running_loss += loss.item()\n",
        "        optimizer.step()\n",
        "    train_loss = running_loss/len(dataloader.dataset)\n",
        "    return train_loss"
      ],
      "execution_count": 16,
      "outputs": []
    },
    {
      "cell_type": "code",
      "metadata": {
        "id": "Hj2NsdvRFu5x"
      },
      "source": [
        "def validate(model, dataloader):\n",
        "    model.eval()\n",
        "    running_loss = 0.0\n",
        "    with torch.no_grad():\n",
        "        for i, data in tqdm(enumerate(dataloader), total=int(len(val_data)/dataloader.batch_size)):\n",
        "            data= data\n",
        "            data = data.to(device)\n",
        "            data = data\n",
        "            reconstruction, mu, logvar = model(data)\n",
        "            bce_loss = criterion(reconstruction, data)\n",
        "            loss = final_loss(bce_loss, mu, logvar)\n",
        "            running_loss += loss.item()\n",
        "        \n",
        "            # save the last batch input and output of every epoch\n",
        "            if i == int(len(val_data)/dataloader.batch_size) - 1:\n",
        "                num_rows = 8\n",
        "                both = torch.cat((data[:8], \n",
        "                                  reconstruction[:8]))\n",
        "                save_image(both.cpu(), f\"./output{epoch}.png\", nrow=num_rows)\n",
        "    val_loss = running_loss/len(dataloader.dataset)\n",
        "    return val_loss"
      ],
      "execution_count": 19,
      "outputs": []
    },
    {
      "cell_type": "code",
      "metadata": {
        "id": "bYsIi6hIFyTd",
        "colab": {
          "base_uri": "https://localhost:8080/"
        },
        "outputId": "61e9bd16-deda-490a-ad40-6bba757d7bbe"
      },
      "source": [
        "train_loss = []\n",
        "val_loss = []\n",
        "for epoch in range(epochs):\n",
        "    print(f\"Epoch {epoch+1} of {epochs}\")\n",
        "    train_epoch_loss = fit(model, train_loader)\n",
        "    val_epoch_loss = validate(model, val_loader)\n",
        "    train_loss.append(train_epoch_loss)\n",
        "    val_loss.append(val_epoch_loss)\n",
        "    print(f\"Train Loss: {train_epoch_loss:.4f}\")\n",
        "    print(f\"Val Loss: {val_epoch_loss:.4f}\")"
      ],
      "execution_count": 20,
      "outputs": [
        {
          "output_type": "stream",
          "name": "stdout",
          "text": [
            "Epoch 1 of 20\n"
          ]
        },
        {
          "output_type": "stream",
          "name": "stderr",
          "text": [
            "27it [00:17,  1.59it/s]                        \n",
            "5it [00:01,  4.90it/s]\n"
          ]
        },
        {
          "output_type": "stream",
          "name": "stdout",
          "text": [
            "Train Loss: 364.6182\n",
            "Val Loss: 358.1644\n",
            "Epoch 2 of 20\n"
          ]
        },
        {
          "output_type": "stream",
          "name": "stderr",
          "text": [
            "27it [00:17,  1.58it/s]                        \n",
            "5it [00:01,  4.94it/s]\n"
          ]
        },
        {
          "output_type": "stream",
          "name": "stdout",
          "text": [
            "Train Loss: 360.9472\n",
            "Val Loss: 355.6943\n",
            "Epoch 3 of 20\n"
          ]
        },
        {
          "output_type": "stream",
          "name": "stderr",
          "text": [
            "27it [00:17,  1.59it/s]                        \n",
            "5it [00:01,  4.92it/s]\n"
          ]
        },
        {
          "output_type": "stream",
          "name": "stdout",
          "text": [
            "Train Loss: 359.2100\n",
            "Val Loss: 354.4557\n",
            "Epoch 4 of 20\n"
          ]
        },
        {
          "output_type": "stream",
          "name": "stderr",
          "text": [
            "27it [00:17,  1.58it/s]                        \n",
            "5it [00:01,  4.82it/s]\n"
          ]
        },
        {
          "output_type": "stream",
          "name": "stdout",
          "text": [
            "Train Loss: 357.2583\n",
            "Val Loss: 353.2234\n",
            "Epoch 5 of 20\n"
          ]
        },
        {
          "output_type": "stream",
          "name": "stderr",
          "text": [
            "27it [00:16,  1.59it/s]                        \n",
            "5it [00:01,  4.84it/s]\n"
          ]
        },
        {
          "output_type": "stream",
          "name": "stdout",
          "text": [
            "Train Loss: 356.2847\n",
            "Val Loss: 352.9791\n",
            "Epoch 6 of 20\n"
          ]
        },
        {
          "output_type": "stream",
          "name": "stderr",
          "text": [
            "27it [00:16,  1.59it/s]                        \n",
            "5it [00:01,  4.89it/s]\n"
          ]
        },
        {
          "output_type": "stream",
          "name": "stdout",
          "text": [
            "Train Loss: 355.5810\n",
            "Val Loss: 352.7812\n",
            "Epoch 7 of 20\n"
          ]
        },
        {
          "output_type": "stream",
          "name": "stderr",
          "text": [
            "27it [00:17,  1.59it/s]                        \n",
            "5it [00:01,  4.85it/s]\n"
          ]
        },
        {
          "output_type": "stream",
          "name": "stdout",
          "text": [
            "Train Loss: 355.2433\n",
            "Val Loss: 352.6141\n",
            "Epoch 8 of 20\n"
          ]
        },
        {
          "output_type": "stream",
          "name": "stderr",
          "text": [
            "27it [00:17,  1.59it/s]                        \n",
            "5it [00:01,  4.90it/s]\n"
          ]
        },
        {
          "output_type": "stream",
          "name": "stdout",
          "text": [
            "Train Loss: 354.8586\n",
            "Val Loss: 352.5668\n",
            "Epoch 9 of 20\n"
          ]
        },
        {
          "output_type": "stream",
          "name": "stderr",
          "text": [
            "27it [00:17,  1.58it/s]                        \n",
            "5it [00:01,  4.86it/s]\n"
          ]
        },
        {
          "output_type": "stream",
          "name": "stdout",
          "text": [
            "Train Loss: 354.5726\n",
            "Val Loss: 352.4755\n",
            "Epoch 10 of 20\n"
          ]
        },
        {
          "output_type": "stream",
          "name": "stderr",
          "text": [
            "27it [00:17,  1.58it/s]                        \n",
            "5it [00:01,  4.91it/s]\n"
          ]
        },
        {
          "output_type": "stream",
          "name": "stdout",
          "text": [
            "Train Loss: 354.4321\n",
            "Val Loss: 352.6068\n",
            "Epoch 11 of 20\n"
          ]
        },
        {
          "output_type": "stream",
          "name": "stderr",
          "text": [
            "27it [00:16,  1.59it/s]                        \n",
            "5it [00:01,  4.95it/s]\n"
          ]
        },
        {
          "output_type": "stream",
          "name": "stdout",
          "text": [
            "Train Loss: 354.3518\n",
            "Val Loss: 352.1644\n",
            "Epoch 12 of 20\n"
          ]
        },
        {
          "output_type": "stream",
          "name": "stderr",
          "text": [
            "27it [00:16,  1.59it/s]                        \n",
            "5it [00:01,  4.88it/s]\n"
          ]
        },
        {
          "output_type": "stream",
          "name": "stdout",
          "text": [
            "Train Loss: 354.3627\n",
            "Val Loss: 351.9845\n",
            "Epoch 13 of 20\n"
          ]
        },
        {
          "output_type": "stream",
          "name": "stderr",
          "text": [
            "27it [00:16,  1.59it/s]                        \n",
            "5it [00:01,  4.88it/s]\n"
          ]
        },
        {
          "output_type": "stream",
          "name": "stdout",
          "text": [
            "Train Loss: 354.3971\n",
            "Val Loss: 351.9773\n",
            "Epoch 14 of 20\n"
          ]
        },
        {
          "output_type": "stream",
          "name": "stderr",
          "text": [
            "27it [00:16,  1.59it/s]                        \n",
            "5it [00:01,  4.87it/s]\n"
          ]
        },
        {
          "output_type": "stream",
          "name": "stdout",
          "text": [
            "Train Loss: 354.5813\n",
            "Val Loss: 352.2481\n",
            "Epoch 15 of 20\n"
          ]
        },
        {
          "output_type": "stream",
          "name": "stderr",
          "text": [
            "27it [00:16,  1.59it/s]                        \n",
            "5it [00:01,  4.93it/s]\n"
          ]
        },
        {
          "output_type": "stream",
          "name": "stdout",
          "text": [
            "Train Loss: 354.3590\n",
            "Val Loss: 352.0242\n",
            "Epoch 16 of 20\n"
          ]
        },
        {
          "output_type": "stream",
          "name": "stderr",
          "text": [
            "27it [00:17,  1.59it/s]                        \n",
            "5it [00:01,  4.88it/s]\n"
          ]
        },
        {
          "output_type": "stream",
          "name": "stdout",
          "text": [
            "Train Loss: 354.1546\n",
            "Val Loss: 352.2858\n",
            "Epoch 17 of 20\n"
          ]
        },
        {
          "output_type": "stream",
          "name": "stderr",
          "text": [
            "27it [00:17,  1.59it/s]                        \n",
            "5it [00:01,  4.92it/s]\n"
          ]
        },
        {
          "output_type": "stream",
          "name": "stdout",
          "text": [
            "Train Loss: 354.0070\n",
            "Val Loss: 352.2519\n",
            "Epoch 18 of 20\n"
          ]
        },
        {
          "output_type": "stream",
          "name": "stderr",
          "text": [
            "27it [00:16,  1.59it/s]                        \n",
            "5it [00:01,  4.88it/s]\n"
          ]
        },
        {
          "output_type": "stream",
          "name": "stdout",
          "text": [
            "Train Loss: 353.9113\n",
            "Val Loss: 351.9533\n",
            "Epoch 19 of 20\n"
          ]
        },
        {
          "output_type": "stream",
          "name": "stderr",
          "text": [
            "27it [00:17,  1.58it/s]                        \n",
            "5it [00:01,  4.83it/s]\n"
          ]
        },
        {
          "output_type": "stream",
          "name": "stdout",
          "text": [
            "Train Loss: 353.8237\n",
            "Val Loss: 351.6619\n",
            "Epoch 20 of 20\n"
          ]
        },
        {
          "output_type": "stream",
          "name": "stderr",
          "text": [
            "27it [00:16,  1.59it/s]                        \n",
            "5it [00:01,  4.88it/s]"
          ]
        },
        {
          "output_type": "stream",
          "name": "stdout",
          "text": [
            "Train Loss: 353.6980\n",
            "Val Loss: 351.4922\n"
          ]
        },
        {
          "output_type": "stream",
          "name": "stderr",
          "text": [
            "\n"
          ]
        }
      ]
    },
    {
      "cell_type": "markdown",
      "metadata": {
        "id": "dUIh-Xc00xsV"
      },
      "source": [
        "## Визуализация полученных изображений"
      ]
    },
    {
      "cell_type": "code",
      "metadata": {
        "id": "Kj-8SpDJzsoV"
      },
      "source": [
        "from PIL import Image\n",
        "import matplotlib.pyplot as plt"
      ],
      "execution_count": 25,
      "outputs": []
    },
    {
      "cell_type": "code",
      "metadata": {
        "colab": {
          "base_uri": "https://localhost:8080/",
          "height": 185
        },
        "id": "tnbgmZkM0hco",
        "outputId": "048c48e7-957c-4846-a49f-13c0c62f42cf"
      },
      "source": [
        "# 10я эпоха\n",
        "image_10 = Image.open(\"output10.png\")\n",
        "plt.imshow(image_10)"
      ],
      "execution_count": 26,
      "outputs": [
        {
          "output_type": "execute_result",
          "data": {
            "text/plain": [
              "<matplotlib.image.AxesImage at 0x7f2833489a90>"
            ]
          },
          "metadata": {},
          "execution_count": 26
        },
        {
          "output_type": "display_data",
          "data": {
            "image/png": "[encoded data removed]",
            "text/plain": [
              "<Figure size 432x288 with 1 Axes>"
            ]
          },
          "metadata": {
            "needs_background": "light"
          }
        }
      ]
    },
    {
      "cell_type": "code",
      "metadata": {
        "colab": {
          "base_uri": "https://localhost:8080/",
          "height": 185
        },
        "id": "1MVtg-vS08mP",
        "outputId": "f8534fc7-d8da-46e0-abde-27b6893fecaf"
      },
      "source": [
        "# 19я эпоха\n",
        "image_19 = Image.open(\"output19.png\")\n",
        "plt.imshow(image_19)"
      ],
      "execution_count": 28,
      "outputs": [
        {
          "output_type": "execute_result",
          "data": {
            "text/plain": [
              "<matplotlib.image.AxesImage at 0x7f2833400110>"
            ]
          },
          "metadata": {},
          "execution_count": 28
        },
        {
          "output_type": "display_data",
          "data": {
            "image/png": "[encoded data removed]",
            "text/plain": [
              "<Figure size 432x288 with 1 Axes>"
            ]
          },
          "metadata": {
            "needs_background": "light"
          }
        }
      ]
    }
  ]
}