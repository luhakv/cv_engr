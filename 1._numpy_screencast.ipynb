{
 "cells": [
  {
   "cell_type": "code",
   "execution_count": 1,
   "metadata": {
    "colab": {
     "base_uri": "https://localhost:8080/"
    },
    "executionInfo": {
     "elapsed": 725,
     "status": "ok",
     "timestamp": 1623281326064,
     "user": {
      "displayName": "Grigorii Alexeenko",
      "photoUrl": "",
      "userId": "07109815321363384907"
     },
     "user_tz": -180
    },
    "id": "TEIy5CuO9hGa",
    "outputId": "16f6c525-e138-4b6c-ebf0-9f1a97740d2b"
   },
   "outputs": [
    {
     "name": "stdout",
     "output_type": "stream",
     "text": [
      "[[0. 0. 0. 0. 0.]\n",
      " [0. 0. 0. 0. 0.]]\n",
      "[[5. 5. 5. 5. 5.]\n",
      " [5. 5. 5. 5. 5.]]\n",
      "(2, 5)\n"
     ]
    }
   ],
   "source": [
    "import numpy as np\n",
    "\n",
    "zer = np.zeros((2,5))\n",
    "print(zer)\n",
    "print(zer + 5)\n",
    "print(zer.shape)"
   ]
  },
  {
   "cell_type": "code",
   "execution_count": 2,
   "metadata": {
    "colab": {
     "base_uri": "https://localhost:8080/"
    },
    "executionInfo": {
     "elapsed": 25,
     "status": "ok",
     "timestamp": 1623281326065,
     "user": {
      "displayName": "Grigorii Alexeenko",
      "photoUrl": "",
      "userId": "07109815321363384907"
     },
     "user_tz": -180
    },
    "id": "eCQumIKaEL7d",
    "outputId": "bb43bbe4-1535-46a6-d610-5abf83bbc0a3"
   },
   "outputs": [
    {
     "name": "stdout",
     "output_type": "stream",
     "text": [
      "[[0.37343801 0.30126158 0.33860674]\n",
      " [0.75203056 0.50727198 0.16504571]\n",
      " [0.54160177 0.60334365 0.60673304]]\n",
      "[[0.30126158 0.33860674 0.37343801]\n",
      " [0.16504571 0.50727198 0.75203056]\n",
      " [0.54160177 0.60334365 0.60673304]]\n"
     ]
    }
   ],
   "source": [
    "matrix = np.random.random((3,3))\n",
    "print(matrix)\n",
    "matrix.sort()\n",
    "print(matrix)"
   ]
  },
  {
   "cell_type": "code",
   "execution_count": 3,
   "metadata": {
    "colab": {
     "base_uri": "https://localhost:8080/"
    },
    "executionInfo": {
     "elapsed": 24,
     "status": "ok",
     "timestamp": 1623281326066,
     "user": {
      "displayName": "Grigorii Alexeenko",
      "photoUrl": "",
      "userId": "07109815321363384907"
     },
     "user_tz": -180
    },
    "id": "DtwObaJbOSNO",
    "outputId": "577becf1-3353-437a-80f8-c4d9b5220f14"
   },
   "outputs": [
    {
     "name": "stdout",
     "output_type": "stream",
     "text": [
      "[[4 2 1 1]\n",
      " [2 3 3 3]\n",
      " [1 4 2 4]]\n"
     ]
    }
   ],
   "source": [
    "print(np.random.randint(1, 5, (3,4)))"
   ]
  },
  {
   "cell_type": "code",
   "execution_count": 4,
   "metadata": {
    "colab": {
     "base_uri": "https://localhost:8080/"
    },
    "executionInfo": {
     "elapsed": 23,
     "status": "ok",
     "timestamp": 1623281326067,
     "user": {
      "displayName": "Grigorii Alexeenko",
      "photoUrl": "",
      "userId": "07109815321363384907"
     },
     "user_tz": -180
    },
    "id": "zykL_X4B-JKV",
    "outputId": "59e28d15-ee9a-42a6-9f7f-f245a2226190"
   },
   "outputs": [
    {
     "name": "stdout",
     "output_type": "stream",
     "text": [
      "[0.         0.44444444 0.88888889 1.33333333 1.77777778 2.22222222\n",
      " 2.66666667 3.11111111 3.55555556 4.        ]\n"
     ]
    }
   ],
   "source": [
    "x = np.linspace(0,4,10)\n",
    "print(x)"
   ]
  },
  {
   "cell_type": "code",
   "execution_count": 5,
   "metadata": {
    "colab": {
     "base_uri": "https://localhost:8080/"
    },
    "executionInfo": {
     "elapsed": 20,
     "status": "ok",
     "timestamp": 1623281326067,
     "user": {
      "displayName": "Grigorii Alexeenko",
      "photoUrl": "",
      "userId": "07109815321363384907"
     },
     "user_tz": -180
    },
    "id": "XG2JN7Dc-qXp",
    "outputId": "afdb41c5-0646-4e5b-ac65-d3aea7a0a695"
   },
   "outputs": [
    {
     "name": "stdout",
     "output_type": "stream",
     "text": [
      "2.0 20.0 4.0\n"
     ]
    }
   ],
   "source": [
    "print(x.mean(), x.sum(), x.max())"
   ]
  },
  {
   "cell_type": "code",
   "execution_count": 6,
   "metadata": {
    "colab": {
     "base_uri": "https://localhost:8080/"
    },
    "executionInfo": {
     "elapsed": 20,
     "status": "ok",
     "timestamp": 1623281326068,
     "user": {
      "displayName": "Grigorii Alexeenko",
      "photoUrl": "",
      "userId": "07109815321363384907"
     },
     "user_tz": -180
    },
    "id": "YRBgNs_NPlnL",
    "outputId": "60682bb6-13d0-461f-fbd8-0be901087d8a"
   },
   "outputs": [
    {
     "name": "stdout",
     "output_type": "stream",
     "text": [
      "[[0.         0.44444444]\n",
      " [0.88888889 1.33333333]\n",
      " [1.77777778 2.22222222]\n",
      " [2.66666667 3.11111111]\n",
      " [3.55555556 4.        ]]\n",
      "(5, 2)\n",
      "2.0\n",
      "20.0\n"
     ]
    }
   ],
   "source": [
    "x2 = np.reshape(x, (5, 2))\n",
    "print(x2)\n",
    "print(x2.shape)\n",
    "print(x2.mean())\n",
    "print(x2.sum())"
   ]
  },
  {
   "cell_type": "code",
   "execution_count": 7,
   "metadata": {
    "colab": {
     "base_uri": "https://localhost:8080/"
    },
    "executionInfo": {
     "elapsed": 18,
     "status": "ok",
     "timestamp": 1623281326068,
     "user": {
      "displayName": "Grigorii Alexeenko",
      "photoUrl": "",
      "userId": "07109815321363384907"
     },
     "user_tz": -180
    },
    "id": "VGfZbWkhBdAb",
    "outputId": "c475ce34-e709-48d1-c6c3-bab440a2d432"
   },
   "outputs": [
    {
     "name": "stdout",
     "output_type": "stream",
     "text": [
      "[[0.        ]\n",
      " [0.44444444]\n",
      " [0.88888889]\n",
      " [1.33333333]\n",
      " [1.77777778]\n",
      " [2.22222222]\n",
      " [2.66666667]\n",
      " [3.11111111]\n",
      " [3.55555556]\n",
      " [4.        ]]\n"
     ]
    }
   ],
   "source": [
    "y = np.linspace(0,4,10).reshape(-1,1)\n",
    "print(y)"
   ]
  },
  {
   "cell_type": "code",
   "execution_count": 8,
   "metadata": {
    "colab": {
     "base_uri": "https://localhost:8080/"
    },
    "executionInfo": {
     "elapsed": 17,
     "status": "ok",
     "timestamp": 1623281326069,
     "user": {
      "displayName": "Grigorii Alexeenko",
      "photoUrl": "",
      "userId": "07109815321363384907"
     },
     "user_tz": -180
    },
    "id": "OPHMPimXBvS9",
    "outputId": "1a5406b5-ad19-462d-8efa-9ecfbf2d584b"
   },
   "outputs": [
    {
     "name": "stdout",
     "output_type": "stream",
     "text": [
      "[56.2962963]\n",
      "56.29629629629629\n"
     ]
    }
   ],
   "source": [
    "print(x @ y) # np.dot(x,y)\n",
    "print((y**2).sum())"
   ]
  },
  {
   "cell_type": "code",
   "execution_count": 9,
   "metadata": {
    "colab": {
     "base_uri": "https://localhost:8080/"
    },
    "executionInfo": {
     "elapsed": 15,
     "status": "ok",
     "timestamp": 1623281326069,
     "user": {
      "displayName": "Grigorii Alexeenko",
      "photoUrl": "",
      "userId": "07109815321363384907"
     },
     "user_tz": -180
    },
    "id": "H3dHnyT-Ddsx",
    "outputId": "8a85136a-a06b-4178-c24c-de9d8ca188dd"
   },
   "outputs": [
    {
     "name": "stdout",
     "output_type": "stream",
     "text": [
      "[0 1 2 3 4 5 6 7 8 9]\n",
      "[3 5 9 0 4 6 1 7 2 8]\n"
     ]
    }
   ],
   "source": [
    "a = np.arange(10)\n",
    "print(a)\n",
    "np.random.shuffle(a)\n",
    "print(a)"
   ]
  },
  {
   "cell_type": "code",
   "execution_count": 10,
   "metadata": {
    "colab": {
     "base_uri": "https://localhost:8080/"
    },
    "executionInfo": {
     "elapsed": 14,
     "status": "ok",
     "timestamp": 1623281326069,
     "user": {
      "displayName": "Grigorii Alexeenko",
      "photoUrl": "",
      "userId": "07109815321363384907"
     },
     "user_tz": -180
    },
    "id": "pTDvNw1MGjYV",
    "outputId": "aaa80fe3-835b-4ce6-d8b0-31d6e4ff85a0"
   },
   "outputs": [
    {
     "name": "stdout",
     "output_type": "stream",
     "text": [
      "[[1 2 3]\n",
      " [4 5 6]]\n",
      "[[3 2 1]\n",
      " [6 5 4]]\n",
      "[[1 2 3]\n",
      " [4 0 6]]\n"
     ]
    }
   ],
   "source": [
    "A = np.array([[1, 2, 3], [4, 5, 6]])\n",
    "B = A[:, ::-1]\n",
    "print(A)\n",
    "print(B)\n",
    "B[1][1] = 0\n",
    "print(A)"
   ]
  },
  {
   "cell_type": "code",
   "execution_count": 11,
   "metadata": {
    "colab": {
     "base_uri": "https://localhost:8080/"
    },
    "executionInfo": {
     "elapsed": 14,
     "status": "ok",
     "timestamp": 1623281326070,
     "user": {
      "displayName": "Grigorii Alexeenko",
      "photoUrl": "",
      "userId": "07109815321363384907"
     },
     "user_tz": -180
    },
    "id": "BIQrtohsG5jG",
    "outputId": "a7b0040f-def0-48ad-8e3a-17592a683cd3"
   },
   "outputs": [
    {
     "name": "stdout",
     "output_type": "stream",
     "text": [
      "[[1 2 3]\n",
      " [4 5 6]]\n",
      "[[3 2 1]\n",
      " [6 5 4]]\n",
      "[[1 2 3]\n",
      " [4 5 6]]\n"
     ]
    }
   ],
   "source": [
    "A = np.array([[1, 2, 3], [4, 5, 6]])\n",
    "B = A.copy()[:, ::-1]\n",
    "print(A)\n",
    "print(B)\n",
    "B[1][1] = 0\n",
    "print(A)"
   ]
  },
  {
   "cell_type": "code",
   "execution_count": null,
   "metadata": {
    "colab": {
     "base_uri": "https://localhost:8080/"
    },
    "executionInfo": {
     "elapsed": 14,
     "status": "ok",
     "timestamp": 1623281326070,
     "user": {
      "displayName": "Grigorii Alexeenko",
      "photoUrl": "",
      "userId": "07109815321363384907"
     },
     "user_tz": -180
    },
    "id": "fr5XyYnTLOw4",
    "outputId": "b989a984-1cb5-4d51-e4fb-92129654fd9b"
   },
   "outputs": [
    {
     "name": "stdout",
     "output_type": "stream",
     "text": [
      "[[0.69515204 0.54205252 0.41990039 0.54295413]\n",
      " [0.82804678 0.20929654 0.74152849 0.70543345]]\n",
      "[[0.69515204 0.82804678]\n",
      " [0.54205252 0.20929654]\n",
      " [0.41990039 0.74152849]\n",
      " [0.54295413 0.70543345]]\n"
     ]
    }
   ],
   "source": [
    "x = np.random.random((2,4))\n",
    "print(x)\n",
    "print(x.T)"
   ]
  }
 ],
 "metadata": {
  "colab": {
   "name": "numpy_screencast.ipynb",
   "provenance": []
  },
  "kernelspec": {
   "display_name": "Python 3",
   "language": "python",
   "name": "python3"
  },
  "language_info": {
   "codemirror_mode": {
    "name": "ipython",
    "version": 3
   },
   "file_extension": ".py",
   "mimetype": "text/x-python",
   "name": "python",
   "nbconvert_exporter": "python",
   "pygments_lexer": "ipython3",
   "version": "3.8.3"
  }
 },
 "nbformat": 4,
 "nbformat_minor": 1
}
